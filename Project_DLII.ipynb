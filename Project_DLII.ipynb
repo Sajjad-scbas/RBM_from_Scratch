{
 "cells": [
  {
   "attachments": {},
   "cell_type": "markdown",
   "id": "e729d928",
   "metadata": {},
   "source": [
    "### Deep Learning Project \n",
    "##### Authors : Marvin Tordjman - Sajjad Mahdavi - Yanis Fellah "
   ]
  },
  {
   "attachments": {},
   "cell_type": "markdown",
   "id": "4a43f03c",
   "metadata": {},
   "source": [
    "#### $\\bullet$ Loading Libraries"
   ]
  },
  {
   "cell_type": "code",
   "execution_count": 1,
   "id": "2c519ad1",
   "metadata": {},
   "outputs": [],
   "source": [
    "import numpy as np\n",
    "import pandas as pd\n",
    "import seaborn as sns\n",
    "import matplotlib.pyplot as plt\n",
    "#plt.style.use('ggplot')\n",
    "import random\n",
    "\n",
    "from scipy.special import softmax\n",
    "#For read .mat file \n",
    "import scipy.io\n"
   ]
  },
  {
   "attachments": {},
   "cell_type": "markdown",
   "id": "d5e940b0",
   "metadata": {},
   "source": [
    "#### $\\bullet$ Construction d’un RBM et test sur Binary AlphaDigits"
   ]
  },
  {
   "cell_type": "code",
   "execution_count": 2,
   "id": "d30fd656",
   "metadata": {},
   "outputs": [],
   "source": [
    "def lire_alpha_digit(character, data):\n",
    "    \"\"\"\n",
    "    function that takes a character list and \n",
    "    returns the data in matrix form\n",
    "    \"\"\"\n",
    "    n, n_car, height, width = 39, 36, 20, 16\n",
    "    list_caracter = np.array(list(map(chr, range(48, 58))) + list(map(chr, range(97, 123))))\n",
    "    index_car = [int(np.where(list_caracter == character[i])[0]) for i in range(len(character))]\n",
    "    X = np.concatenate(np.concatenate(data['dat'][index_car], axis = 0), axis = 0).reshape(len(character)*n, height*width)\n",
    "    print(f'the shape of the data is = {X.shape}')\n",
    "    return X\n",
    "    "
   ]
  },
  {
   "cell_type": "code",
   "execution_count": 3,
   "id": "b92c01f9",
   "metadata": {},
   "outputs": [],
   "source": [
    "def sigmoid(x):\n",
    "    return 1./(1+np.exp(-x))"
   ]
  },
  {
   "cell_type": "code",
   "execution_count": 4,
   "id": "e0fa9264",
   "metadata": {},
   "outputs": [],
   "source": [
    "class RBM():\n",
    "    \"\"\"\n",
    "    a class representing a Restricted Boltzmann Machine (RBM)\n",
    "    \"\"\"\n",
    "    def __init__(self, nv, nh):\n",
    "        self.a = np.zeros(nv)\n",
    "        self.b = np.zeros(nh)\n",
    "        self.W = np.sqrt(0.01)*np.random.randn(nv, nh)"
   ]
  },
  {
   "cell_type": "code",
   "execution_count": 5,
   "id": "07e04a4a",
   "metadata": {},
   "outputs": [],
   "source": [
    "def init_RBM(nv, nh):\n",
    "    \"\"\"\n",
    "    function that takes the number of visible (nv) and hidden (nh) units and \n",
    "    returns a Restricted Boltzmann machine (RBM) initialized with \n",
    "    bias 0 and the weights (W) will be randomly initialized according to a centered normal distribution. \n",
    "    \"\"\"\n",
    "    rbm = RBM(nv, nh)\n",
    "    return rbm\n",
    "\n",
    "def entree_sortie_RBM(X, rbm):\n",
    "    \"\"\"\n",
    "    function that takes an MBR and input data and \n",
    "    returns the value of the output units calculated from the sigmoid function.\n",
    "    \"\"\"\n",
    "    return sigmoid(X@rbm.W + rbm.b)\n",
    "\n",
    "\n",
    "def sortie_entree_RBM(H, rbm):\n",
    "    \"\"\"\n",
    "    function that takes an MBR and output data and \n",
    "    returns the value of the input units from the sigmoid function.\n",
    "    \"\"\"\n",
    "    return sigmoid(H@rbm.W.T + rbm.a)\n"
   ]
  },
  {
   "cell_type": "code",
   "execution_count": 6,
   "id": "d8bf86d7",
   "metadata": {},
   "outputs": [],
   "source": [
    "# Contrastive Divergence Algorithm = Training\n",
    "def train_RBM(X, rbm, num_epoch = 100, lr = 1e-1, batch_size = 5, plot=False, verbose=False):\n",
    "    \"\"\"\n",
    "    function that allows to learn RBM parameters using Contrastive Divergence Algorithm. \n",
    "    The function takes the input data, an initialized RBM, the number of epochs, learning rate, batch-size \n",
    "    returns a trained RBM.\n",
    "    If 'plot = True' the function displays the squared error between the input data and the reconstructed data \n",
    "    If 'verboe = True' we print the squared error at each epoch\n",
    "    \"\"\"\n",
    "\n",
    "    n = X.shape[0]\n",
    "    nv, nh = rbm.W.shape\n",
    "    partial_loss = []\n",
    "    for epoch in range(num_epoch):\n",
    "        X_copy = np.copy(X)\n",
    "        np.random.shuffle(X_copy)\n",
    "        for batch in range(0, n, batch_size):\n",
    "            X_batch = np.copy(X_copy)[batch:min(batch+batch_size, n)]\n",
    "            tb = X_batch.shape[0]\n",
    "            v_0 = np.copy(X_batch)\n",
    "            p_h_given_v_0 = entree_sortie_RBM(v_0, rbm)\n",
    "            h_0 = (np.random.rand(tb, nh) < p_h_given_v_0)*1\n",
    "            p_v_given_h_0 = sortie_entree_RBM(h_0, rbm)\n",
    "            v_1 = (np.random.rand(tb, nv) < p_v_given_h_0)*1\n",
    "            p_h_given_v_1 = entree_sortie_RBM(v_1, rbm)\n",
    "            \n",
    "            #Gradient of parameters\n",
    "            grad_a = np.sum(v_0 - v_1, axis = 0)\n",
    "            grad_b = np.sum(p_h_given_v_0 - p_h_given_v_1, axis = 0)\n",
    "            grad_W = v_0.T@p_h_given_v_0 - v_1.T@p_h_given_v_1\n",
    "            \n",
    "            #Update weights and bias\n",
    "            rbm.W += (lr/tb)*grad_W\n",
    "            rbm.a += (lr/tb)*grad_a\n",
    "            rbm.b += (lr/tb)*grad_b\n",
    "\n",
    "        if(verbose):\n",
    "            H = entree_sortie_RBM(X, rbm)\n",
    "            X_rec = sortie_entree_RBM(H, rbm)\n",
    "            partial_loss.append( np.mean((X-X_rec)**2))\n",
    "            print(\"Epoch : %1i/%1i, Error = %.3f\" %(epoch,num_epoch,partial_loss[-1]))\n",
    "        \n",
    "    if plot:\n",
    "        plt.scatter(x = np.arange(1,num_epoch+1,1), y = partial_loss)\n",
    "        plt.xlabel('Number of Epochs')\n",
    "        plt.ylabel('Error')\n",
    "        plt.title('Error between Real Data and Reconstructed Data')\n",
    "            \n",
    "    return rbm"
   ]
  },
  {
   "cell_type": "code",
   "execution_count": 7,
   "id": "e357f108",
   "metadata": {},
   "outputs": [],
   "source": [
    "# Generating data with RBM architecture\n",
    "def generer_image_RBM(rbm, num_iter_gibs, num_gen, height, width):\n",
    "    \"\"\"\n",
    "    Function to generate binary images.\n",
    "    This function takes a trained RBM, the number of generated images and the number of iteration gibbs \n",
    "    returns of the generated images.\n",
    "    \"\"\"\n",
    "    \n",
    "    fig = plt.figure(figsize=(20,5))\n",
    "    num_rows = int(num_gen/10)+1\n",
    "    nv, nh = rbm.W.shape\n",
    "    X_con = np.zeros((num_gen, nv))\n",
    "    for i in range(num_gen):\n",
    "        v = (np.random.rand(nv) < 1/2)*1\n",
    "        for iter_gibs in range(num_iter_gibs):\n",
    "            h = (np.random.rand(nh) < entree_sortie_RBM(v, rbm))*1\n",
    "            v = (np.random.rand(nv) < sortie_entree_RBM(h, rbm))*1\n",
    "        X_con[i] = v\n",
    "        ax = fig.add_subplot(num_rows, 10, i+1)\n",
    "        plt.imshow(X_con[i].reshape(height, width), cmap='gray')\n",
    "    return X_con"
   ]
  },
  {
   "cell_type": "code",
   "execution_count": 8,
   "id": "12e4b1b9",
   "metadata": {},
   "outputs": [],
   "source": [
    "def principal_RBM_alpha(X, height, width, nh, num_gen, num_epoch=100, lr=1e-1, batch_size=8, num_iter_gibs=5, verbose=False, plot=True):\n",
    "    \"\"\"\n",
    "    A function that gradually learns characters from \n",
    "    the Binary AlphaDigits database of your choice via an RBM and generates characters similar to those learned.\n",
    "    \"\"\"\n",
    "    #data = scipy.io.loadmat('binaryalphadigs.mat')\n",
    "    #n, n_car, height, width = 39, 36, 20, 16\n",
    "\n",
    "    #X = lire_alpha_digit(character, data)\n",
    "\n",
    "    #Initilization\n",
    "    rbm = init_RBM(height*width, nh)\n",
    "    #Training\n",
    "    rbm = train_RBM(X, rbm, num_epoch, lr, batch_size, plot=plot, verbose=verbose)\n",
    "    #Generation\n",
    "    X_generated = generer_image_RBM(rbm, num_iter_gibs, num_gen, height, width)\n",
    "\n",
    "    return rbm\n",
    "    "
   ]
  },
  {
   "attachments": {},
   "cell_type": "markdown",
   "id": "4121a4b1",
   "metadata": {},
   "source": [
    "#### $\\bullet$ Construction d’un DBN et test sur Binary AlphaDigits"
   ]
  },
  {
   "cell_type": "code",
   "execution_count": 9,
   "id": "5ba08677",
   "metadata": {},
   "outputs": [],
   "source": [
    "def init_DBN(nv, nh, num_layer):\n",
    "    \"\"\"\n",
    "    this function allows to build and initialize randomly the weights and biases of a Deep Boltzmann Network DBN.\n",
    "    This function will return a DBN, \n",
    "    taking as argument the number of visible and hidden units and also the number of layers in the network.\n",
    "    \"\"\"\n",
    "    dbn = []\n",
    "    dbn.append(init_RBM(nv, nh))\n",
    "    for i in range(1, num_layer):\n",
    "        dbn.append(init_RBM(nh, nh))\n",
    "    return dbn\n",
    "\n",
    "\n",
    "def train_DBN(X, dbn, num_epoch = 100, lr = 1e-1, batch_size = 8):\n",
    "    \"\"\"\n",
    "    This function will return a pre-trained DBN and \n",
    "    will take as argument a DBN, the number of epochs, the learning rate, the batch-size, input data\n",
    "    \"\"\"\n",
    "    num_layer = len(dbn)\n",
    "    #X at layer l\n",
    "    X_l = np.copy(X)\n",
    "    for i in range(num_layer):\n",
    "        dbn[i] = train_RBM(X_l, dbn[i], num_epoch, lr, batch_size)\n",
    "        p_v_given_h = entree_sortie_RBM(X_l, dbn[i])\n",
    "        X_l = (np.random.rand(X_l.shape[0], p_v_given_h.shape[1]) < p_v_given_h)*1\n",
    "    return dbn\n"
   ]
  },
  {
   "cell_type": "code",
   "execution_count": 35,
   "id": "2376a980",
   "metadata": {},
   "outputs": [],
   "source": [
    "# Generating data with DBN architecture\n",
    "def generer_image_DBN(dbn, num_iter_gibs, num_gen, height, width):\n",
    "    \"\"\"\n",
    "    Function to generate binary images.\n",
    "    This function takes a trained DBN, the number of generated images and the number of iteration gibbs \n",
    "    returns the generated images.\n",
    "    \"\"\"\n",
    "    fig = plt.figure(figsize=(20,5))\n",
    "    num_rows = int(num_gen/10)+1\n",
    "    nv = dbn[0].W.shape[0]\n",
    "    num_layers = len(dbn)\n",
    "    X_con = np.zeros((num_gen, nv))\n",
    "    for i in range(num_gen):\n",
    "        v = (np.random.rand(nv) < 1/2)*1\n",
    "        for iter_gibs in range(num_iter_gibs):\n",
    "            for l in range(num_layers): \n",
    "                nv, nh = dbn[l].W.shape\n",
    "                v = (np.random.rand(nh) < entree_sortie_RBM(v, dbn[l]))*1\n",
    "            for l in range(num_layers-1, -1, -1):\n",
    "                nv, nh = dbn[l].W.shape\n",
    "                v = (np.random.rand(nv) < sortie_entree_RBM(v, dbn[l]))*1\n",
    "        X_con[i] = v\n",
    "        ax = fig.add_subplot(num_rows, 10, i+1)\n",
    "        plt.imshow(X_con[i].reshape(height,width), cmap='gray')\n",
    "    return X_con"
   ]
  },
  {
   "cell_type": "code",
   "execution_count": 11,
   "id": "28cc429f",
   "metadata": {},
   "outputs": [],
   "source": [
    "def principal_DBN_alpha(X, height, width, nh, num_layers, num_gen, num_epoch=100, lr=1e-1, batch_size=8, num_iter_gibs=5, verbose=False, plot=True):\n",
    "    \"\"\"\n",
    "    A function that gradually learns characters from \n",
    "    the Binary AlphaDigits database of your choice via an DBN and generates characters similar to those learned.\n",
    "    \"\"\"\n",
    "\n",
    "    #Initilization\n",
    "    dbn = init_DBN(height*width, nh, num_layers)\n",
    "    #Training\n",
    "    dbn = train_DBN(X, dbn, num_epoch, lr, batch_size)\n",
    "    #Generation\n",
    "    X_generated = generer_image_DBN(dbn, num_iter_gibs, num_gen, height, width)\n",
    "\n",
    "    return dbn"
   ]
  },
  {
   "attachments": {},
   "cell_type": "markdown",
   "id": "1b1cbb86",
   "metadata": {},
   "source": [
    "#### $\\bullet$ Construction d’un DNN et test sur MNIST"
   ]
  },
  {
   "cell_type": "code",
   "execution_count": 12,
   "id": "241dc255",
   "metadata": {},
   "outputs": [],
   "source": [
    "def init_DNN(nv, nh, num_layer):\n",
    "    \"\"\"\n",
    "    A function that takes the number of visible (nv) and hidden (nh) units and the number of layers\n",
    "    returns an initialized Deep Belif Network DNN\n",
    "    \"\"\"\n",
    "    dnn = init_DBN(nv, nh, num_layer)\n",
    "    dnn.append(init_RBM(nh, 10))\n",
    "    return dnn\n",
    "\n",
    "\n",
    "def pretrain_DNN(X, dnn, num_epoch = 100, lr = 1e-1, batch_size = 64):\n",
    "    \"\"\"\n",
    "    This function will return a pre-trained DNN (except the classification layer) and \n",
    "    will take as arguments a DNN, the number of epochs, the learning rate, the batch-size, and the input data.\n",
    "    \"\"\"\n",
    "    l = len(dnn)\n",
    "    dnn[:(l-1)] = train_DBN(X, dnn[:(l-1)], num_epoch = num_epoch, lr = lr, batch_size = batch_size)\n",
    "    return dnn\n",
    "\n",
    "def calcul_softmax(X, rbm):\n",
    "    \"\"\"\n",
    "    Applies the Softmax function to the output of the classification layer.\n",
    "    \"\"\"\n",
    "    return softmax(X@rbm.W + rbm.b , axis=1)\n",
    "\n",
    "\n",
    "def entree_sortie_reseau(X, dnn):\n",
    "    \"\"\"\n",
    "    function that takes as argument a DNN, data in input of the network and \n",
    "    returns in a list the outputs on each layer of the network (input layer included) \n",
    "    as well as the probabilities on the output units. (after the application of softmax)\n",
    "    \"\"\"\n",
    "    l = len(dnn) #Number of the layers\n",
    "    X_list = [] #List of output after each layer\n",
    "    X_list.append(X)\n",
    "    for i in range(l-1):\n",
    "        X_list.append(entree_sortie_RBM(X_list[-1], dnn[i]))\n",
    "    X_list.append(calcul_softmax(X_list[-1], dnn[-1]))\n",
    "    return X_list\n"
   ]
  },
  {
   "attachments": {},
   "cell_type": "markdown",
   "id": "1eb554cc",
   "metadata": {},
   "source": [
    "Some Elementary Functions"
   ]
  },
  {
   "cell_type": "code",
   "execution_count": 13,
   "id": "81542bb7",
   "metadata": {},
   "outputs": [],
   "source": [
    "def CrossEntropyLoss(y, y_pred):\n",
    "    \"\"\"\n",
    "    This criterion computes the cross entropy loss between input logits and target.\n",
    "    \"\"\"\n",
    "    return -np.mean(np.log(y_pred)*y)\n",
    "\n",
    "\n",
    "def to_one_hot(y):\n",
    "    \"\"\"\n",
    "    Encode categorical features as a one-hot numeric array.\n",
    "    \"\"\"\n",
    "    ohe = np.zeros((y.size, 10))\n",
    "    ohe[np.arange(y.size),y] = 1\n",
    "    return ohe\n",
    "\n",
    "def accuracy(output, labels):\n",
    "    \"\"\"\n",
    "    function that calculates the error rate\n",
    "    \"\"\"\n",
    "    correct = np.sum(np.argmax(output, axis=1) == np.argmax(labels, axis=1))\n",
    "    return correct / len(labels)\n"
   ]
  },
  {
   "cell_type": "code",
   "execution_count": 14,
   "id": "2d88076a",
   "metadata": {},
   "outputs": [],
   "source": [
    "def retropropagation(X, y, dnn, num_epoch = 100, lr = 1e-1, batch_size = 64, verbose = True):\n",
    "    \"\"\"\n",
    "    This function will return a DNN and \n",
    "    will take as argument a DNN, the number of epochs, the learning rate, \n",
    "    the batch-size, some input data, their label.\n",
    "    \"\"\"\n",
    "    n = X.shape[0]\n",
    "    l = len(dnn)    \n",
    "    for epoch in range(num_epoch):\n",
    "        loss = 0\n",
    "        X_copy, y_copy = np.copy(X), np.copy(y)\n",
    "        shuffle = np.random.permutation(n)\n",
    "        X_copy, y_copy = X_copy[shuffle], y_copy[shuffle]\n",
    "        for batch in range(0, n, batch_size):\n",
    "            X_batch = np.copy(X_copy)[batch:min(batch+batch_size, n)]\n",
    "            y_batch = np.copy(y_copy)[batch:min(batch+batch_size, n)]\n",
    "            y_batch_ohe = to_one_hot(y_batch)\n",
    "\n",
    "            tb = X_batch.shape[0]\n",
    "\n",
    "            pred = entree_sortie_reseau(X_batch, dnn)\n",
    "            loss += CrossEntropyLoss(y_batch_ohe, pred[-1])\n",
    "\n",
    "            for i in range(l):\n",
    "                if i==0:\n",
    "                    delta = pred[l] - y_batch_ohe\n",
    "                else :\n",
    "                    delta = grad_a*(pred[l-i]*(1-pred[l-i]))\n",
    "\n",
    "                #Gradient of parameters\n",
    "                grad_W = 1/tb * pred[l-i-1].T.dot(delta)\n",
    "                grad_b = 1/tb * np.sum(delta, axis=0)\n",
    "                grad_a = delta.dot(dnn[l-i-1].W.T)\n",
    "\n",
    "                #Update weights and bias\n",
    "                dnn[l-i-1].W -=  lr*grad_W\n",
    "                dnn[l-i-1].b -= lr*grad_b\n",
    "        if verbose:\n",
    "            print(f\"Epoch {epoch}/{num_epoch} the loss is = {loss/batch_size}\")\n",
    "    return dnn\n",
    "            "
   ]
  },
  {
   "cell_type": "code",
   "execution_count": 15,
   "id": "77fa5d4f",
   "metadata": {},
   "outputs": [],
   "source": [
    "def test_DNN(dnn, X, y, verbose=False):\n",
    "    \"\"\"\n",
    "    This function takes as argument a learned DNN, a test data set, and the associated real labels\n",
    "    \"\"\"\n",
    "    y_ohe = to_one_hot(y)\n",
    "    pred = entree_sortie_reseau(X, dnn)\n",
    "    error = 1 - accuracy(pred[-1], y_ohe)\n",
    "    if verbose :\n",
    "        print(f\"The Accuracy of the model is {error}\")\n",
    "    return error\n"
   ]
  },
  {
   "attachments": {},
   "cell_type": "markdown",
   "id": "33e72ab5",
   "metadata": {},
   "source": [
    "#### $\\bullet$ Etude sur Binary AlphaDigit"
   ]
  },
  {
   "cell_type": "code",
   "execution_count": 16,
   "id": "7441899e",
   "metadata": {},
   "outputs": [],
   "source": [
    "num_epochs = 100\n",
    "lr = 1e-1\n",
    "batch_size = 8\n",
    "num_layers = 3\n",
    "nh = 100\n",
    "num_iter_gibs = 5\n",
    "num_gen = 5"
   ]
  },
  {
   "cell_type": "code",
   "execution_count": 17,
   "id": "ec8db3e3",
   "metadata": {},
   "outputs": [
    {
     "name": "stdout",
     "output_type": "stream",
     "text": [
      "the shape of the data is = (39, 320)\n"
     ]
    }
   ],
   "source": [
    "data = scipy.io.loadmat('Data/AlphaDigits/binaryalphadigs.mat')\n",
    "n, n_car, height, width = 39, 36, 20, 16\n",
    "\n",
    "X = lire_alpha_digit(['a'], data)"
   ]
  },
  {
   "attachments": {},
   "cell_type": "markdown",
   "id": "0656e7f9",
   "metadata": {},
   "source": [
    "##### Training of RBM"
   ]
  },
  {
   "attachments": {},
   "cell_type": "markdown",
   "id": "9ba3d333",
   "metadata": {},
   "source": [
    "##### An overview of the regenerated images for RBM, depending on the number of neurons"
   ]
  },
  {
   "cell_type": "code",
   "execution_count": 31,
   "id": "8c790232",
   "metadata": {},
   "outputs": [
    {
     "data": {
      "image/png": "[encoded data removed]",
      "text/plain": [
       "<Figure size 2000x500 with 5 Axes>"
      ]
     },
     "metadata": {},
     "output_type": "display_data"
    },
    {
     "data": {
      "image/png": "[encoded data removed]",
      "text/plain": [
       "<Figure size 2000x500 with 5 Axes>"
      ]
     },
     "metadata": {},
     "output_type": "display_data"
    },
    {
     "data": {
      "image/png": "[encoded data removed]",
      "text/plain": [
       "<Figure size 2000x500 with 5 Axes>"
      ]
     },
     "metadata": {},
     "output_type": "display_data"
    },
    {
     "data": {
      "image/png": "[encoded data removed]",
      "text/plain": [
       "<Figure size 2000x500 with 5 Axes>"
      ]
     },
     "metadata": {},
     "output_type": "display_data"
    }
   ],
   "source": [
    "nhs = [100, 200 ,300, 400]\n",
    "for nh in nhs:\n",
    "    principal_RBM_alpha(X, height, width, nh, num_gen=num_gen, num_epoch=num_epochs, lr=lr,\n",
    "                    batch_size=batch_size, num_iter_gibs=num_iter_gibs, verbose=False, plot=False)\n",
    "    plt.title(f\"Number of hidden neurons : {nh}\")\n",
    "    #plt.savefig(\"AlphaD1\"+str(nh)+\".pdf\", format=\"pdf\", bbox_inches=\"tight\")"
   ]
  },
  {
   "attachments": {},
   "cell_type": "markdown",
   "id": "ffea4475",
   "metadata": {},
   "source": [
    "##### An overview of the regenerated images for RBM, depending on the number of characters"
   ]
  },
  {
   "cell_type": "code",
   "execution_count": 30,
   "id": "5142622b",
   "metadata": {},
   "outputs": [
    {
     "name": "stdout",
     "output_type": "stream",
     "text": [
      "the shape of the data is = (39, 320)\n",
      "the shape of the data is = (78, 320)\n",
      "the shape of the data is = (117, 320)\n",
      "the shape of the data is = (156, 320)\n"
     ]
    },
    {
     "data": {
      "image/png": "[encoded data removed]",
      "text/plain": [
       "<Figure size 2000x500 with 8 Axes>"
      ]
     },
     "metadata": {},
     "output_type": "display_data"
    },
    {
     "data": {
      "image/png": "[encoded data removed]",
      "text/plain": [
       "<Figure size 2000x500 with 8 Axes>"
      ]
     },
     "metadata": {},
     "output_type": "display_data"
    },
    {
     "data": {
      "image/png": "[encoded data removed]",
      "text/plain": [
       "<Figure size 2000x500 with 8 Axes>"
      ]
     },
     "metadata": {},
     "output_type": "display_data"
    },
    {
     "data": {
      "image/png": "[encoded data removed]",
      "text/plain": [
       "<Figure size 2000x500 with 8 Axes>"
      ]
     },
     "metadata": {},
     "output_type": "display_data"
    }
   ],
   "source": [
    "characters = [['a'], ['a','b'], ['a', 'b', 'c'], ['a', 'b', 'c', 'd']]\n",
    "for char in characters:\n",
    "    X_test = lire_alpha_digit(char, data)\n",
    "    principal_RBM_alpha(X_test, height, width, nh, num_gen=8, num_epoch=num_epochs, lr=lr,\n",
    "                    batch_size=batch_size, num_iter_gibs=num_iter_gibs, verbose=False, plot=False)\n",
    "    plt.title(f\"Learned on characters = {char}\")\n",
    "    #plt.savefig(\"AlphaD2\"+str(len(char))+\".pdf\", format=\"pdf\", bbox_inches=\"tight\")\n",
    "    "
   ]
  },
  {
   "attachments": {},
   "cell_type": "markdown",
   "id": "a7b878b8",
   "metadata": {},
   "source": [
    "##### Training of DBN"
   ]
  },
  {
   "attachments": {},
   "cell_type": "markdown",
   "id": "3f456864",
   "metadata": {},
   "source": [
    "##### An overview of the regenerated images for DBN, depending on the number of neurons"
   ]
  },
  {
   "cell_type": "code",
   "execution_count": 37,
   "id": "b36eeed8",
   "metadata": {},
   "outputs": [
    {
     "data": {
      "image/png": "[encoded data removed]",
      "text/plain": [
       "<Figure size 2000x500 with 5 Axes>"
      ]
     },
     "metadata": {},
     "output_type": "display_data"
    },
    {
     "data": {
      "image/png": "[encoded data removed]",
      "text/plain": [
       "<Figure size 2000x500 with 5 Axes>"
      ]
     },
     "metadata": {},
     "output_type": "display_data"
    },
    {
     "data": {
      "image/png": "[encoded data removed]",
      "text/plain": [
       "<Figure size 2000x500 with 5 Axes>"
      ]
     },
     "metadata": {},
     "output_type": "display_data"
    },
    {
     "data": {
      "image/png": "[encoded data removed]",
      "text/plain": [
       "<Figure size 2000x500 with 5 Axes>"
      ]
     },
     "metadata": {},
     "output_type": "display_data"
    }
   ],
   "source": [
    "nhs = [100, 200 ,300, 400]\n",
    "for nh in nhs:\n",
    "    principal_DBN_alpha(X, height, width, nh, num_layers, num_gen=num_gen, num_epoch=num_epochs, lr=lr,\n",
    "                    batch_size=batch_size, num_iter_gibs=num_iter_gibs, verbose=False, plot=False)\n",
    "    plt.title(f\"Number of hidden neurons : {nh}\")\n",
    "    plt.savefig(\"AlphaDBN\"+str(nh)+\".pdf\", format=\"pdf\", bbox_inches=\"tight\")"
   ]
  },
  {
   "attachments": {},
   "cell_type": "markdown",
   "id": "b75b2139",
   "metadata": {},
   "source": [
    "##### An overview of the regenerated images for DBN, depending on the number of layers"
   ]
  },
  {
   "cell_type": "code",
   "execution_count": 39,
   "id": "0fd981c7",
   "metadata": {},
   "outputs": [
    {
     "data": {
      "image/png": "[encoded data removed]",
      "text/plain": [
       "<Figure size 2000x500 with 5 Axes>"
      ]
     },
     "metadata": {},
     "output_type": "display_data"
    },
    {
     "data": {
      "image/png": "[encoded data removed]",
      "text/plain": [
       "<Figure size 2000x500 with 5 Axes>"
      ]
     },
     "metadata": {},
     "output_type": "display_data"
    },
    {
     "data": {
      "image/png": "[encoded data removed]",
      "text/plain": [
       "<Figure size 2000x500 with 5 Axes>"
      ]
     },
     "metadata": {},
     "output_type": "display_data"
    }
   ],
   "source": [
    "nh = 100 \n",
    "nls = [3 ,5 ,7]\n",
    "for nl in nls:\n",
    "    principal_DBN_alpha(X, height, width, nh, nl, num_gen=num_gen, num_epoch=num_epochs, lr=lr,\n",
    "                    batch_size=batch_size, num_iter_gibs=num_iter_gibs, verbose=False, plot=False)\n",
    "    plt.title(f\"Number of layers : {nl}\")\n",
    "    plt.savefig(\"layers\"+str(nl)+\".pdf\", format=\"pdf\", bbox_inches=\"tight\")"
   ]
  },
  {
   "attachments": {},
   "cell_type": "markdown",
   "id": "7ccdd16f",
   "metadata": {},
   "source": [
    "##### An overview of the regenerated images for DBN, depending on the number of characters\n"
   ]
  },
  {
   "cell_type": "code",
   "execution_count": 44,
   "id": "272b4c0a",
   "metadata": {},
   "outputs": [
    {
     "name": "stdout",
     "output_type": "stream",
     "text": [
      "the shape of the data is = (39, 320)\n",
      "the shape of the data is = (78, 320)\n",
      "the shape of the data is = (117, 320)\n",
      "the shape of the data is = (156, 320)\n"
     ]
    },
    {
     "data": {
      "image/png": "[encoded data removed]",
      "text/plain": [
       "<Figure size 2000x500 with 8 Axes>"
      ]
     },
     "metadata": {},
     "output_type": "display_data"
    },
    {
     "data": {
      "image/png": "[encoded data removed]",
      "text/plain": [
       "<Figure size 2000x500 with 8 Axes>"
      ]
     },
     "metadata": {},
     "output_type": "display_data"
    },
    {
     "data": {
      "image/png": "[encoded data removed]",
      "text/plain": [
       "<Figure size 2000x500 with 8 Axes>"
      ]
     },
     "metadata": {},
     "output_type": "display_data"
    },
    {
     "data": {
      "image/png": "[encoded data removed]",
      "text/plain": [
       "<Figure size 2000x500 with 8 Axes>"
      ]
     },
     "metadata": {},
     "output_type": "display_data"
    }
   ],
   "source": [
    "characters = [['a'], ['a','b'], ['a', 'b', 'c'], ['a', 'b', 'c', 'd']]\n",
    "for char in characters:\n",
    "    X_test = lire_alpha_digit(char, data)\n",
    "    principal_DBN_alpha(X_test, height, width, 500, num_layers, num_gen=8, num_epoch=num_epochs, lr=lr,\n",
    "                    batch_size=batch_size, num_iter_gibs=num_iter_gibs, verbose=False, plot=False)\n",
    "    plt.title(f\"Learned on characters = {char}\")\n",
    "    plt.savefig(\"char\"+str(len(char))+\".pdf\", format=\"pdf\", bbox_inches=\"tight\")"
   ]
  },
  {
   "attachments": {},
   "cell_type": "markdown",
   "id": "56c5dfce",
   "metadata": {},
   "source": [
    "#### $\\bullet$ Étude à réaliser sur MNIST"
   ]
  },
  {
   "attachments": {},
   "cell_type": "markdown",
   "id": "27c6dd51",
   "metadata": {},
   "source": [
    "##### Programme"
   ]
  },
  {
   "attachments": {},
   "cell_type": "markdown",
   "id": "767a5b0a",
   "metadata": {},
   "source": [
    "Specify the parameters related to the network and learning."
   ]
  },
  {
   "cell_type": "code",
   "execution_count": 20,
   "id": "90e6689f",
   "metadata": {},
   "outputs": [],
   "source": [
    "num_layers = 3\n",
    "num_epochs_rbm = 50\n",
    "num_epochs_retro = 50\n",
    "lr = 1e-1\n",
    "batch_size = 64\n",
    "n_samples = 30000\n",
    "height, width = 28, 28\n",
    "nh = 200\n"
   ]
  },
  {
   "attachments": {},
   "cell_type": "markdown",
   "id": "53609fd9",
   "metadata": {},
   "source": [
    "Loading the Data"
   ]
  },
  {
   "cell_type": "code",
   "execution_count": 21,
   "id": "1d502b11",
   "metadata": {},
   "outputs": [],
   "source": [
    "#pip install python-mnist"
   ]
  },
  {
   "cell_type": "code",
   "execution_count": 21,
   "id": "c5f7e901",
   "metadata": {},
   "outputs": [],
   "source": [
    "def binarize_mnist(X):\n",
    "    X_b = np.zeros(X.shape)\n",
    "    X_b[X >= 128] = 1\n",
    "    return X_b"
   ]
  },
  {
   "cell_type": "code",
   "execution_count": 22,
   "id": "82b9a967",
   "metadata": {},
   "outputs": [],
   "source": [
    "from mnist import MNIST\n",
    "\n",
    "mndata = MNIST('../Deep Learning II/MNIST')\n",
    "\n",
    "X_train, y_train = mndata.load_training()\n",
    "X_test, y_test = mndata.load_testing()\n",
    "\n",
    "X_train = binarize_mnist(np.array(X_train)).astype(np.int32)\n",
    "y_train = np.array(y_train).astype(np.int32)\n",
    "X_test = binarize_mnist(np.array(X_test)).astype(np.int32)\n",
    "y_test = np.array(y_test).astype(np.int32)"
   ]
  },
  {
   "cell_type": "code",
   "execution_count": 23,
   "id": "9780139b",
   "metadata": {},
   "outputs": [],
   "source": [
    "def principal_DNN_MNIST(X_train, y_train, n_samples, dnn, pre_train, num_epochs_rbm = 100, num_epochs_retro = 200, lr = 1e-1, batch_size = 64, verbose = False):\n",
    "    \"\"\"\n",
    "    A function that progressively learns a pre-trained deep neural network via a DBN.\n",
    "    \"\"\"\n",
    "    \n",
    "    mask = random.sample(list(np.arange(X_train.shape[0])), n_samples)\n",
    "    X_train = X_train[mask]\n",
    "    y_train = y_train[mask]\n",
    "\n",
    "    if pre_train:\n",
    "        dnn = pretrain_DNN(X_train, dnn, num_epochs_rbm, lr, batch_size)\n",
    "    dnn = retropropagation(X_train, y_train, dnn, num_epochs_retro, lr, batch_size)\n",
    "    return dnn"
   ]
  },
  {
   "attachments": {},
   "cell_type": "markdown",
   "id": "1cc1df7d",
   "metadata": {},
   "source": [
    "##### Analyse"
   ]
  },
  {
   "cell_type": "code",
   "execution_count": 95,
   "id": "7ca23e0e",
   "metadata": {},
   "outputs": [
    {
     "name": "stdout",
     "output_type": "stream",
     "text": [
      "Training of network with 2 layers\n",
      "Epoch 0/50 the loss is = 1.4877703369186728\n",
      "Epoch 1/50 the loss is = 0.5918420405089625\n",
      "Epoch 2/50 the loss is = 0.4943650019139977\n",
      "Epoch 3/50 the loss is = 0.4453065414775144\n",
      "Epoch 4/50 the loss is = 0.4092660853107588\n",
      "Epoch 5/50 the loss is = 0.3776546428688136\n",
      "Epoch 6/50 the loss is = 0.3502359827204798\n",
      "Epoch 7/50 the loss is = 0.3263926879151648\n",
      "Epoch 8/50 the loss is = 0.30420378207636256\n",
      "Epoch 9/50 the loss is = 0.2834832181142687\n",
      "Epoch 10/50 the loss is = 0.2647541480016054\n",
      "Epoch 11/50 the loss is = 0.2482804297334287\n",
      "Epoch 12/50 the loss is = 0.2328350802107645\n",
      "Epoch 13/50 the loss is = 0.21927266860588907\n",
      "Epoch 14/50 the loss is = 0.2064271584474594\n",
      "Epoch 15/50 the loss is = 0.19558441954784875\n",
      "Epoch 16/50 the loss is = 0.18469565896770737\n",
      "Epoch 17/50 the loss is = 0.17495466282833724\n",
      "Epoch 18/50 the loss is = 0.16576496855245462\n",
      "Epoch 19/50 the loss is = 0.15734160590801027\n",
      "Epoch 20/50 the loss is = 0.14962512805159944\n",
      "Epoch 21/50 the loss is = 0.14210666934400198\n",
      "Epoch 22/50 the loss is = 0.1355707777618364\n",
      "Epoch 23/50 the loss is = 0.12875943596128708\n",
      "Epoch 24/50 the loss is = 0.1228882374154043\n",
      "Epoch 25/50 the loss is = 0.11688277833008565\n",
      "Epoch 26/50 the loss is = 0.1114477988318456\n",
      "Epoch 27/50 the loss is = 0.10630077602718892\n",
      "Epoch 28/50 the loss is = 0.10138405970929855\n",
      "Epoch 29/50 the loss is = 0.09725074950813743\n",
      "Epoch 30/50 the loss is = 0.09281149736583762\n",
      "Epoch 31/50 the loss is = 0.08867490861997074\n",
      "Epoch 32/50 the loss is = 0.08447345099737306\n",
      "Epoch 33/50 the loss is = 0.08067439079610393\n",
      "Epoch 34/50 the loss is = 0.0772927088506881\n",
      "Epoch 35/50 the loss is = 0.07399531195102972\n",
      "Epoch 36/50 the loss is = 0.07048722402672664\n",
      "Epoch 37/50 the loss is = 0.06732173388251196\n",
      "Epoch 38/50 the loss is = 0.06415313872765485\n",
      "Epoch 39/50 the loss is = 0.06168484735155283\n",
      "Epoch 40/50 the loss is = 0.05855328802249901\n",
      "Epoch 41/50 the loss is = 0.05601103828770911\n",
      "Epoch 42/50 the loss is = 0.0535092064163016\n",
      "Epoch 43/50 the loss is = 0.05126811379365688\n",
      "Epoch 44/50 the loss is = 0.04909501045105633\n",
      "Epoch 45/50 the loss is = 0.04709561063356807\n",
      "Epoch 46/50 the loss is = 0.044653724759284766\n",
      "Epoch 47/50 the loss is = 0.04286335616772075\n",
      "Epoch 48/50 the loss is = 0.040861721677714166\n",
      "Epoch 49/50 the loss is = 0.03913911535042827\n",
      "Epoch 0/50 the loss is = 0.6971159848536024\n",
      "Epoch 1/50 the loss is = 0.4118726453110005\n",
      "Epoch 2/50 the loss is = 0.3579933441900271\n",
      "Epoch 3/50 the loss is = 0.32481787200174245\n",
      "Epoch 4/50 the loss is = 0.3007792579101132\n",
      "Epoch 5/50 the loss is = 0.2818015349395121\n",
      "Epoch 6/50 the loss is = 0.2654901241642134\n",
      "Epoch 7/50 the loss is = 0.25199766145078006\n",
      "Epoch 8/50 the loss is = 0.23966397093245867\n",
      "Epoch 9/50 the loss is = 0.229035686195056\n",
      "Epoch 10/50 the loss is = 0.21921604463457783\n",
      "Epoch 11/50 the loss is = 0.2101910747346041\n",
      "Epoch 12/50 the loss is = 0.2021044746449475\n",
      "Epoch 13/50 the loss is = 0.1946460570921247\n",
      "Epoch 14/50 the loss is = 0.18772844787617166\n",
      "Epoch 15/50 the loss is = 0.18113764101868898\n",
      "Epoch 16/50 the loss is = 0.17510996324673328\n",
      "Epoch 17/50 the loss is = 0.16933153454404856\n",
      "Epoch 18/50 the loss is = 0.16402016962071173\n",
      "Epoch 19/50 the loss is = 0.15913096457020498\n",
      "Epoch 20/50 the loss is = 0.15406767765402699\n",
      "Epoch 21/50 the loss is = 0.1494571606611271\n",
      "Epoch 22/50 the loss is = 0.1452104482044085\n",
      "Epoch 23/50 the loss is = 0.14111651304661213\n",
      "Epoch 24/50 the loss is = 0.13708671146031304\n",
      "Epoch 25/50 the loss is = 0.1335973249284432\n",
      "Epoch 26/50 the loss is = 0.12998784194213572\n",
      "Epoch 27/50 the loss is = 0.12654073421664153\n",
      "Epoch 28/50 the loss is = 0.12324219627573979\n",
      "Epoch 29/50 the loss is = 0.12003957392350838\n",
      "Epoch 30/50 the loss is = 0.11726382344240949\n",
      "Epoch 31/50 the loss is = 0.11435020264579276\n",
      "Epoch 32/50 the loss is = 0.11152176625170022\n",
      "Epoch 33/50 the loss is = 0.10877896052810078\n",
      "Epoch 34/50 the loss is = 0.10605672394144185\n",
      "Epoch 35/50 the loss is = 0.10359630869136649\n",
      "Epoch 36/50 the loss is = 0.10137918263958122\n",
      "Epoch 37/50 the loss is = 0.09901897917704816\n",
      "Epoch 38/50 the loss is = 0.09662920445115965\n",
      "Epoch 39/50 the loss is = 0.09454479884114297\n",
      "Epoch 40/50 the loss is = 0.09224337894388268\n",
      "Epoch 41/50 the loss is = 0.09053000618340476\n",
      "Epoch 42/50 the loss is = 0.08827286624188384\n",
      "Epoch 43/50 the loss is = 0.08629219595149025\n",
      "Epoch 44/50 the loss is = 0.08464621244387012\n",
      "Epoch 45/50 the loss is = 0.08263959768847245\n",
      "Epoch 46/50 the loss is = 0.08080721015893563\n",
      "Epoch 47/50 the loss is = 0.07907737492272092\n",
      "Epoch 48/50 the loss is = 0.07736096548603054\n",
      "Epoch 49/50 the loss is = 0.0758009338898297\n",
      "Calculating errors on the train and test set\n",
      "Training of network with 3 layers\n",
      "Epoch 0/50 the loss is = 2.2898349162152845\n",
      "Epoch 1/50 the loss is = 0.7804412963458679\n",
      "Epoch 2/50 the loss is = 0.5710495757419287\n",
      "Epoch 3/50 the loss is = 0.4916623774826783\n",
      "Epoch 4/50 the loss is = 0.43912587621013216\n",
      "Epoch 5/50 the loss is = 0.3984661576353355\n",
      "Epoch 6/50 the loss is = 0.36074292042640166\n",
      "Epoch 7/50 the loss is = 0.3288905099734534\n",
      "Epoch 8/50 the loss is = 0.30004345013467953\n",
      "Epoch 9/50 the loss is = 0.27576050078298386\n",
      "Epoch 10/50 the loss is = 0.2540487982291936\n",
      "Epoch 11/50 the loss is = 0.23518137071432235\n",
      "Epoch 12/50 the loss is = 0.21923223840447828\n",
      "Epoch 13/50 the loss is = 0.20433890215839526\n",
      "Epoch 14/50 the loss is = 0.1912558585566571\n",
      "Epoch 15/50 the loss is = 0.18007955686536298\n",
      "Epoch 16/50 the loss is = 0.1688826503892353\n",
      "Epoch 17/50 the loss is = 0.1590630512355601\n",
      "Epoch 18/50 the loss is = 0.14998558720718777\n",
      "Epoch 19/50 the loss is = 0.14142624186717317\n",
      "Epoch 20/50 the loss is = 0.13415196020455086\n",
      "Epoch 21/50 the loss is = 0.12672166662105222\n",
      "Epoch 22/50 the loss is = 0.11957775991630536\n",
      "Epoch 23/50 the loss is = 0.11267587302143961\n",
      "Epoch 24/50 the loss is = 0.1063887034915655\n",
      "Epoch 25/50 the loss is = 0.10106431373120843\n",
      "Epoch 26/50 the loss is = 0.09537205316596015\n",
      "Epoch 27/50 the loss is = 0.09052950201349977\n",
      "Epoch 28/50 the loss is = 0.08465568410837206\n",
      "Epoch 29/50 the loss is = 0.08007685228732471\n",
      "Epoch 30/50 the loss is = 0.07567996415155667\n",
      "Epoch 31/50 the loss is = 0.0715126231290615\n",
      "Epoch 32/50 the loss is = 0.06729431849739871\n",
      "Epoch 33/50 the loss is = 0.06302269394919355\n",
      "Epoch 34/50 the loss is = 0.059327875455360585\n",
      "Epoch 35/50 the loss is = 0.05580204623027198\n",
      "Epoch 36/50 the loss is = 0.05252151697906188\n",
      "Epoch 37/50 the loss is = 0.04894249061575229\n",
      "Epoch 38/50 the loss is = 0.04604869874434415\n",
      "Epoch 39/50 the loss is = 0.04334992392313373\n",
      "Epoch 40/50 the loss is = 0.04025884160614042\n",
      "Epoch 41/50 the loss is = 0.03785373133141089\n",
      "Epoch 42/50 the loss is = 0.03535215915629817\n",
      "Epoch 43/50 the loss is = 0.03298429469829691\n",
      "Epoch 44/50 the loss is = 0.031092631320991052\n",
      "Epoch 45/50 the loss is = 0.028907535884973114\n",
      "Epoch 46/50 the loss is = 0.026915876845653594\n",
      "Epoch 47/50 the loss is = 0.02482540643985465\n",
      "Epoch 48/50 the loss is = 0.023509235018253704\n",
      "Epoch 49/50 the loss is = 0.021548810584952036\n",
      "Epoch 0/50 the loss is = 0.6304929944991766\n",
      "Epoch 1/50 the loss is = 0.37108750830745757\n",
      "Epoch 2/50 the loss is = 0.3194139535207712\n",
      "Epoch 3/50 the loss is = 0.28757801239598657\n",
      "Epoch 4/50 the loss is = 0.26444145941923686\n",
      "Epoch 5/50 the loss is = 0.24640131502507148\n",
      "Epoch 6/50 the loss is = 0.23113177206913288\n",
      "Epoch 7/50 the loss is = 0.2181754226036079\n",
      "Epoch 8/50 the loss is = 0.20732756759654933\n",
      "Epoch 9/50 the loss is = 0.1969772952942933\n",
      "Epoch 10/50 the loss is = 0.18831765499432232\n",
      "Epoch 11/50 the loss is = 0.18018111370755804\n",
      "Epoch 12/50 the loss is = 0.17268397760282939\n",
      "Epoch 13/50 the loss is = 0.16590517641377453\n",
      "Epoch 14/50 the loss is = 0.1596913170429748\n",
      "Epoch 15/50 the loss is = 0.15415910389865334\n",
      "Epoch 16/50 the loss is = 0.1486742152710147\n",
      "Epoch 17/50 the loss is = 0.14365200255960459\n",
      "Epoch 18/50 the loss is = 0.13869686669486317\n",
      "Epoch 19/50 the loss is = 0.1343863965946429\n",
      "Epoch 20/50 the loss is = 0.1300941166459642\n",
      "Epoch 21/50 the loss is = 0.12616247206894912\n",
      "Epoch 22/50 the loss is = 0.1223292454798554\n",
      "Epoch 23/50 the loss is = 0.11888679246840572\n",
      "Epoch 24/50 the loss is = 0.11524057811247711\n",
      "Epoch 25/50 the loss is = 0.11197225911084474\n",
      "Epoch 26/50 the loss is = 0.10875911751946256\n",
      "Epoch 27/50 the loss is = 0.10598162589367822\n",
      "Epoch 28/50 the loss is = 0.10303776943027997\n",
      "Epoch 29/50 the loss is = 0.10032021851350355\n",
      "Epoch 30/50 the loss is = 0.09762534923450292\n",
      "Epoch 31/50 the loss is = 0.0950577193854385\n",
      "Epoch 32/50 the loss is = 0.09239002713429163\n",
      "Epoch 33/50 the loss is = 0.09036265576884761\n",
      "Epoch 34/50 the loss is = 0.08783841237597115\n",
      "Epoch 35/50 the loss is = 0.08557736941297085\n",
      "Epoch 36/50 the loss is = 0.08359297031324393\n",
      "Epoch 37/50 the loss is = 0.08140734624199285\n",
      "Epoch 38/50 the loss is = 0.07955387105128355\n",
      "Epoch 39/50 the loss is = 0.07762081148315875\n",
      "Epoch 40/50 the loss is = 0.07568083889173317\n",
      "Epoch 41/50 the loss is = 0.07402073015443575\n",
      "Epoch 42/50 the loss is = 0.07225175713726409\n",
      "Epoch 43/50 the loss is = 0.0704645980037936\n",
      "Epoch 44/50 the loss is = 0.0690805919217212\n",
      "Epoch 45/50 the loss is = 0.06731063026456004\n",
      "Epoch 46/50 the loss is = 0.0658006073528244\n",
      "Epoch 47/50 the loss is = 0.06417140962676184\n",
      "Epoch 48/50 the loss is = 0.06280734413427246\n",
      "Epoch 49/50 the loss is = 0.0615261162046212\n",
      "Calculating errors on the train and test set\n",
      "Training of network with 5 layers\n",
      "Epoch 0/50 the loss is = 3.4012584562992965\n",
      "Epoch 1/50 the loss is = 3.368489463561854\n",
      "Epoch 2/50 the loss is = 2.7929809498784883\n",
      "Epoch 3/50 the loss is = 1.6054131605419018\n",
      "Epoch 4/50 the loss is = 0.9741385224036063\n",
      "Epoch 5/50 the loss is = 0.752347518170754\n",
      "Epoch 6/50 the loss is = 0.6261231870252276\n",
      "Epoch 7/50 the loss is = 0.544955278664462\n",
      "Epoch 8/50 the loss is = 0.4783932392837491\n",
      "Epoch 9/50 the loss is = 0.4237197374367258\n",
      "Epoch 10/50 the loss is = 0.37863333500253926\n",
      "Epoch 11/50 the loss is = 0.3415921609890341\n",
      "Epoch 12/50 the loss is = 0.3054022244278046\n",
      "Epoch 13/50 the loss is = 0.27702078617676323\n",
      "Epoch 14/50 the loss is = 0.25303160118649953\n",
      "Epoch 15/50 the loss is = 0.23083086125718014\n",
      "Epoch 16/50 the loss is = 0.21264508343202368\n",
      "Epoch 17/50 the loss is = 0.1953126240345892\n",
      "Epoch 18/50 the loss is = 0.1774314754340112\n",
      "Epoch 19/50 the loss is = 0.16654472171511808\n",
      "Epoch 20/50 the loss is = 0.15432452756823029\n",
      "Epoch 21/50 the loss is = 0.1442871119812147\n",
      "Epoch 22/50 the loss is = 0.13124990530254518\n",
      "Epoch 23/50 the loss is = 0.12186285063400899\n",
      "Epoch 24/50 the loss is = 0.11413886166810386\n",
      "Epoch 25/50 the loss is = 0.10487121036823495\n",
      "Epoch 26/50 the loss is = 0.09771546178264291\n",
      "Epoch 27/50 the loss is = 0.09209378377060404\n",
      "Epoch 28/50 the loss is = 0.0841721389802508\n",
      "Epoch 29/50 the loss is = 0.0780557978451145\n",
      "Epoch 30/50 the loss is = 0.0715168303697604\n",
      "Epoch 31/50 the loss is = 0.06722234158468958\n",
      "Epoch 32/50 the loss is = 0.06015542711656802\n",
      "Epoch 33/50 the loss is = 0.07816795373478878\n",
      "Epoch 34/50 the loss is = 0.050429038212351986\n",
      "Epoch 35/50 the loss is = 0.045597581199282845\n",
      "Epoch 36/50 the loss is = 0.041813048069566656\n",
      "Epoch 37/50 the loss is = 0.03715537800697772\n",
      "Epoch 38/50 the loss is = 0.0335669309046008\n",
      "Epoch 39/50 the loss is = 0.030459377100398803\n",
      "Epoch 40/50 the loss is = 0.028648619553716868\n",
      "Epoch 41/50 the loss is = 0.024372676856484317\n",
      "Epoch 42/50 the loss is = 0.02282618125992041\n",
      "Epoch 43/50 the loss is = 0.019747589874244145\n",
      "Epoch 44/50 the loss is = 0.01783087241388493\n",
      "Epoch 45/50 the loss is = 0.015195968132611015\n",
      "Epoch 46/50 the loss is = 0.012960082593741248\n",
      "Epoch 47/50 the loss is = 0.011732416290665522\n",
      "Epoch 48/50 the loss is = 0.01016374008563885\n",
      "Epoch 49/50 the loss is = 0.008982373945934223\n",
      "Epoch 0/50 the loss is = 0.6204744911684259\n",
      "Epoch 1/50 the loss is = 0.3512115240914522\n",
      "Epoch 2/50 the loss is = 0.2967716012509449\n",
      "Epoch 3/50 the loss is = 0.2631476929952056\n",
      "Epoch 4/50 the loss is = 0.23869495966273768\n",
      "Epoch 5/50 the loss is = 0.21929190303325252\n",
      "Epoch 6/50 the loss is = 0.2033640095324252\n",
      "Epoch 7/50 the loss is = 0.19003842848672978\n",
      "Epoch 8/50 the loss is = 0.1786705344333949\n",
      "Epoch 9/50 the loss is = 0.1684892671829389\n",
      "Epoch 10/50 the loss is = 0.15951400961603382\n",
      "Epoch 11/50 the loss is = 0.15207519455177163\n",
      "Epoch 12/50 the loss is = 0.1448989147834554\n",
      "Epoch 13/50 the loss is = 0.13843411889599277\n",
      "Epoch 14/50 the loss is = 0.13250234383993\n",
      "Epoch 15/50 the loss is = 0.12682718550109623\n",
      "Epoch 16/50 the loss is = 0.12206574117303191\n",
      "Epoch 17/50 the loss is = 0.11721213728448067\n",
      "Epoch 18/50 the loss is = 0.11294443697626931\n",
      "Epoch 19/50 the loss is = 0.10883441398744244\n",
      "Epoch 20/50 the loss is = 0.10488701498356898\n",
      "Epoch 21/50 the loss is = 0.10133735667918269\n",
      "Epoch 22/50 the loss is = 0.09777155202547823\n",
      "Epoch 23/50 the loss is = 0.09458662215717094\n",
      "Epoch 24/50 the loss is = 0.09156921271553264\n",
      "Epoch 25/50 the loss is = 0.08882509568620203\n",
      "Epoch 26/50 the loss is = 0.08571700156581342\n",
      "Epoch 27/50 the loss is = 0.0830016012505672\n",
      "Epoch 28/50 the loss is = 0.08051489222708008\n",
      "Epoch 29/50 the loss is = 0.07788827158155913\n",
      "Epoch 30/50 the loss is = 0.07585413187735512\n",
      "Epoch 31/50 the loss is = 0.07353147808476357\n",
      "Epoch 32/50 the loss is = 0.0713743379408233\n",
      "Epoch 33/50 the loss is = 0.06930904275721188\n",
      "Epoch 34/50 the loss is = 0.06736568681699223\n",
      "Epoch 35/50 the loss is = 0.06530620020292818\n",
      "Epoch 36/50 the loss is = 0.06344161282517136\n",
      "Epoch 37/50 the loss is = 0.06169483780013739\n",
      "Epoch 38/50 the loss is = 0.059989818373120764\n",
      "Epoch 39/50 the loss is = 0.05819157598844936\n",
      "Epoch 40/50 the loss is = 0.05669473325851765\n",
      "Epoch 41/50 the loss is = 0.05523517424493404\n",
      "Epoch 42/50 the loss is = 0.053527171007125056\n",
      "Epoch 43/50 the loss is = 0.05199577293208732\n",
      "Epoch 44/50 the loss is = 0.050571229095439395\n",
      "Epoch 45/50 the loss is = 0.049294379782308856\n",
      "Epoch 46/50 the loss is = 0.04795701086732579\n",
      "Epoch 47/50 the loss is = 0.046612857580608756\n",
      "Epoch 48/50 the loss is = 0.04537700998655322\n",
      "Epoch 49/50 the loss is = 0.04421197304141701\n",
      "Calculating errors on the train and test set\n"
     ]
    }
   ],
   "source": [
    "layers_list = [2, 3, 5]\n",
    "error_train_1 = []\n",
    "error_train_2 = []\n",
    "error_test_1 = []\n",
    "error_test_2 = []\n",
    "\n",
    "for l in layers_list:\n",
    "    print(f\"Training of network with {l} layers\")\n",
    "    dnn_random = init_DNN(height*width, nh, l)\n",
    "    dnn_pre_trained = init_DNN(height*width, nh, l)\n",
    "\n",
    "    dnn_random = principal_DNN_MNIST(n_samples, dnn_random, False, num_epochs_rbm, num_epochs_retro, lr, batch_size)\n",
    "    dnn_pre_trained = principal_DNN_MNIST(n_samples, dnn_pre_trained, True, num_epochs_rbm, num_epochs_retro, lr, batch_size)\n",
    "    \n",
    "\n",
    "    ###### Misclassification rates #######\n",
    "    print('Calculating errors on the train and test set')\n",
    "    #Train \n",
    "    error_train_1.append(test_DNN(dnn_random, X_train, y_train))\n",
    "    error_train_2.append(test_DNN(dnn_pre_trained, X_train, y_train))\n",
    "    #Test\n",
    "    error_test_1.append(test_DNN(dnn_random, X_test, y_test))\n",
    "    error_test_2.append(test_DNN(dnn_pre_trained, X_test, y_test))\n",
    "\n"
   ]
  },
  {
   "attachments": {},
   "cell_type": "markdown",
   "id": "6d3a2a29",
   "metadata": {},
   "source": [
    "#### Figure 1 : Error rate of train and test sets according to number of layers"
   ]
  },
  {
   "cell_type": "code",
   "execution_count": 107,
   "id": "0c6579f0",
   "metadata": {},
   "outputs": [
    {
     "data": {
      "image/png": "[encoded data removed]",
      "text/plain": [
       "<Figure size 2000x700 with 2 Axes>"
      ]
     },
     "metadata": {},
     "output_type": "display_data"
    }
   ],
   "source": [
    "fig = plt.figure(figsize=(20,7))\n",
    "\n",
    "ax = fig.add_subplot(1, 2, 2)\n",
    "plt.plot(layers_list, error_test_1, label='DNN Random', marker='o')\n",
    "plt.plot(layers_list, error_test_2, label='DNN Pre-trained', marker='o')\n",
    "plt.xlabel(\"Number of layer\")\n",
    "plt.ylabel(\"Error rate\")\n",
    "plt.title(\"Error rate of test according to number of layers\")\n",
    "plt.legend()\n",
    "\n",
    "ax = fig.add_subplot(1, 2, 1)\n",
    "plt.plot(layers_list, error_train_1, label='DNN Random', marker='o')\n",
    "plt.plot(layers_list, error_train_2, label='DNN Pre-trained', marker='o')\n",
    "plt.xlabel(\"Number of layer\")\n",
    "plt.ylabel(\"Error rate\")\n",
    "plt.title(\"Error rate of train according to number of layers\")\n",
    "plt.legend()\n",
    "\n",
    "plt.savefig(\"Fig1.pdf\", format=\"pdf\", bbox_inches=\"tight\")\n"
   ]
  },
  {
   "cell_type": "code",
   "execution_count": 35,
   "id": "15258917",
   "metadata": {},
   "outputs": [
    {
     "name": "stdout",
     "output_type": "stream",
     "text": [
      "Training of network with 100 hidden neurons \n",
      "Epoch 0/50 the loss is = 1.3690594236875993\n",
      "Epoch 1/50 the loss is = 0.5784393388211768\n",
      "Epoch 2/50 the loss is = 0.3729965385189343\n",
      "Epoch 3/50 the loss is = 0.30432734770481384\n",
      "Epoch 4/50 the loss is = 0.26852536728526777\n",
      "Epoch 5/50 the loss is = 0.24622978970642484\n",
      "Epoch 6/50 the loss is = 0.2295756439456687\n",
      "Epoch 7/50 the loss is = 0.2165291456525573\n",
      "Epoch 8/50 the loss is = 0.20488954450083507\n",
      "Epoch 9/50 the loss is = 0.1945168621833992\n",
      "Epoch 10/50 the loss is = 0.18527215165488498\n",
      "Epoch 11/50 the loss is = 0.17650144283216465\n",
      "Epoch 12/50 the loss is = 0.168501515286199\n",
      "Epoch 13/50 the loss is = 0.16117596543073265\n",
      "Epoch 14/50 the loss is = 0.1542196919501669\n",
      "Epoch 15/50 the loss is = 0.14799974274336541\n",
      "Epoch 16/50 the loss is = 0.14179605165278622\n",
      "Epoch 17/50 the loss is = 0.13618911895748215\n",
      "Epoch 18/50 the loss is = 0.13059743455946307\n",
      "Epoch 19/50 the loss is = 0.125460413436457\n",
      "Epoch 20/50 the loss is = 0.12114023131445224\n",
      "Epoch 21/50 the loss is = 0.1163078846635232\n",
      "Epoch 22/50 the loss is = 0.11194629468200322\n",
      "Epoch 23/50 the loss is = 0.10751439646473629\n",
      "Epoch 24/50 the loss is = 0.10401959501972458\n",
      "Epoch 25/50 the loss is = 0.09984605398539753\n",
      "Epoch 26/50 the loss is = 0.09620701851528758\n",
      "Epoch 27/50 the loss is = 0.09274195829351359\n",
      "Epoch 28/50 the loss is = 0.08954185972850529\n",
      "Epoch 29/50 the loss is = 0.0866904860107811\n",
      "Epoch 30/50 the loss is = 0.08337447202844743\n",
      "Epoch 31/50 the loss is = 0.08043358356865712\n",
      "Epoch 32/50 the loss is = 0.07762177888294654\n",
      "Epoch 33/50 the loss is = 0.07521115695410983\n",
      "Epoch 34/50 the loss is = 0.07231005667815997\n",
      "Epoch 35/50 the loss is = 0.07013572511050198\n",
      "Epoch 36/50 the loss is = 0.0675990285300126\n",
      "Epoch 37/50 the loss is = 0.06529221836294842\n",
      "Epoch 38/50 the loss is = 0.06316622800828615\n",
      "Epoch 39/50 the loss is = 0.060907663197669354\n",
      "Epoch 40/50 the loss is = 0.058992929408660265\n",
      "Epoch 41/50 the loss is = 0.05679398447809764\n",
      "Epoch 42/50 the loss is = 0.055168616353350484\n",
      "Epoch 43/50 the loss is = 0.05293186695167467\n",
      "Epoch 44/50 the loss is = 0.051303287403542966\n",
      "Epoch 45/50 the loss is = 0.049648425775117445\n",
      "Epoch 46/50 the loss is = 0.04799673811163982\n",
      "Epoch 47/50 the loss is = 0.0464817439181132\n",
      "Epoch 48/50 the loss is = 0.0451215626003736\n",
      "Epoch 49/50 the loss is = 0.04348333283915519\n",
      "Epoch 0/50 the loss is = 0.5309986158468445\n",
      "Epoch 1/50 the loss is = 0.27986747547787066\n",
      "Epoch 2/50 the loss is = 0.24093819917944692\n",
      "Epoch 3/50 the loss is = 0.2200872811543104\n",
      "Epoch 4/50 the loss is = 0.2057629523029007\n",
      "Epoch 5/50 the loss is = 0.19503247624032272\n",
      "Epoch 6/50 the loss is = 0.18605688604676346\n",
      "Epoch 7/50 the loss is = 0.1783296049269461\n",
      "Epoch 8/50 the loss is = 0.17206176705352227\n",
      "Epoch 9/50 the loss is = 0.1660967362294034\n",
      "Epoch 10/50 the loss is = 0.16101387220343727\n",
      "Epoch 11/50 the loss is = 0.15625734997894072\n",
      "Epoch 12/50 the loss is = 0.1520967922852032\n",
      "Epoch 13/50 the loss is = 0.14813222919176697\n",
      "Epoch 14/50 the loss is = 0.14425889006235412\n",
      "Epoch 15/50 the loss is = 0.1407360810259158\n",
      "Epoch 16/50 the loss is = 0.1375114317641505\n",
      "Epoch 17/50 the loss is = 0.13441467904436788\n",
      "Epoch 18/50 the loss is = 0.13144569118762592\n",
      "Epoch 19/50 the loss is = 0.1287144031422442\n",
      "Epoch 20/50 the loss is = 0.12600426295878006\n",
      "Epoch 21/50 the loss is = 0.12356983562088969\n",
      "Epoch 22/50 the loss is = 0.12108575133410932\n",
      "Epoch 23/50 the loss is = 0.11890681456563505\n",
      "Epoch 24/50 the loss is = 0.1167052874140995\n",
      "Epoch 25/50 the loss is = 0.11460671116897243\n",
      "Epoch 26/50 the loss is = 0.11247535948436402\n",
      "Epoch 27/50 the loss is = 0.1104622824572061\n",
      "Epoch 28/50 the loss is = 0.10847731696690137\n",
      "Epoch 29/50 the loss is = 0.10661419844324486\n",
      "Epoch 30/50 the loss is = 0.10504793598541211\n",
      "Epoch 31/50 the loss is = 0.10314602193106148\n",
      "Epoch 32/50 the loss is = 0.10146390143554103\n",
      "Epoch 33/50 the loss is = 0.10003742023708934\n",
      "Epoch 34/50 the loss is = 0.09833600499301236\n",
      "Epoch 35/50 the loss is = 0.09672629038251904\n",
      "Epoch 36/50 the loss is = 0.09519920661128578\n",
      "Epoch 37/50 the loss is = 0.09378150867046678\n",
      "Epoch 38/50 the loss is = 0.09232733349325124\n",
      "Epoch 39/50 the loss is = 0.09097679885052032\n",
      "Epoch 40/50 the loss is = 0.08953759986377445\n",
      "Epoch 41/50 the loss is = 0.08837438372704842\n",
      "Epoch 42/50 the loss is = 0.08693635949995587\n",
      "Epoch 43/50 the loss is = 0.085669420500304\n",
      "Epoch 44/50 the loss is = 0.08448581722988152\n",
      "Epoch 45/50 the loss is = 0.08341944434093942\n",
      "Epoch 46/50 the loss is = 0.08217423493372836\n",
      "Epoch 47/50 the loss is = 0.08101676750619351\n",
      "Epoch 48/50 the loss is = 0.07992866950117661\n",
      "Epoch 49/50 the loss is = 0.07881862955420894\n",
      "Calculating errors on the train and test set\n",
      "Training of network with 300 hidden neurons \n",
      "Epoch 0/50 the loss is = 0.8714678824975588\n",
      "Epoch 1/50 the loss is = 0.3623588695979142\n",
      "Epoch 2/50 the loss is = 0.2896928596204674\n",
      "Epoch 3/50 the loss is = 0.2591600489343258\n",
      "Epoch 4/50 the loss is = 0.24113615380083234\n",
      "Epoch 5/50 the loss is = 0.2275223508804167\n",
      "Epoch 6/50 the loss is = 0.21673223712883216\n",
      "Epoch 7/50 the loss is = 0.20822451628428998\n",
      "Epoch 8/50 the loss is = 0.19909563884486067\n",
      "Epoch 9/50 the loss is = 0.19149059465797477\n",
      "Epoch 10/50 the loss is = 0.18383397251198075\n",
      "Epoch 11/50 the loss is = 0.1768504677965175\n",
      "Epoch 12/50 the loss is = 0.16964693684561055\n",
      "Epoch 13/50 the loss is = 0.16302511570761283\n",
      "Epoch 14/50 the loss is = 0.15760991202591182\n",
      "Epoch 15/50 the loss is = 0.15059379270592904\n",
      "Epoch 16/50 the loss is = 0.14556234275515587\n",
      "Epoch 17/50 the loss is = 0.1400244776186335\n",
      "Epoch 18/50 the loss is = 0.13489110523685507\n",
      "Epoch 19/50 the loss is = 0.12973423547153892\n",
      "Epoch 20/50 the loss is = 0.1250118180809472\n",
      "Epoch 21/50 the loss is = 0.12060902804803883\n",
      "Epoch 22/50 the loss is = 0.1163049651854076\n",
      "Epoch 23/50 the loss is = 0.11236009325230613\n",
      "Epoch 24/50 the loss is = 0.10789052934512931\n",
      "Epoch 25/50 the loss is = 0.10385281498788984\n",
      "Epoch 26/50 the loss is = 0.10076518393932034\n",
      "Epoch 27/50 the loss is = 0.09675119459980962\n",
      "Epoch 28/50 the loss is = 0.09319478208519402\n",
      "Epoch 29/50 the loss is = 0.08954079361662783\n",
      "Epoch 30/50 the loss is = 0.08700379540402331\n",
      "Epoch 31/50 the loss is = 0.08386295154752595\n",
      "Epoch 32/50 the loss is = 0.08070769810052958\n",
      "Epoch 33/50 the loss is = 0.07809547118267968\n",
      "Epoch 34/50 the loss is = 0.07552561984599535\n",
      "Epoch 35/50 the loss is = 0.07260683028180082\n",
      "Epoch 36/50 the loss is = 0.07027295600169264\n",
      "Epoch 37/50 the loss is = 0.06802791487668702\n",
      "Epoch 38/50 the loss is = 0.0653210402323009\n",
      "Epoch 39/50 the loss is = 0.06276686783166448\n",
      "Epoch 40/50 the loss is = 0.06059031250986563\n",
      "Epoch 41/50 the loss is = 0.0582117472983814\n",
      "Epoch 42/50 the loss is = 0.05633208307572333\n",
      "Epoch 43/50 the loss is = 0.054143976937428895\n",
      "Epoch 44/50 the loss is = 0.05252365859084149\n",
      "Epoch 45/50 the loss is = 0.05052168010486041\n",
      "Epoch 46/50 the loss is = 0.04866866594932735\n",
      "Epoch 47/50 the loss is = 0.04666728927239179\n",
      "Epoch 48/50 the loss is = 0.045207647605902256\n",
      "Epoch 49/50 the loss is = 0.043338693911923735\n",
      "Epoch 0/50 the loss is = 0.40630222296386165\n",
      "Epoch 1/50 the loss is = 0.22392131488598\n",
      "Epoch 2/50 the loss is = 0.19273544037433155\n",
      "Epoch 3/50 the loss is = 0.17478707601184298\n",
      "Epoch 4/50 the loss is = 0.1620549955150354\n",
      "Epoch 5/50 the loss is = 0.15182673496232507\n",
      "Epoch 6/50 the loss is = 0.1432438763863809\n",
      "Epoch 7/50 the loss is = 0.13631490896412918\n",
      "Epoch 8/50 the loss is = 0.13011130412069846\n",
      "Epoch 9/50 the loss is = 0.12410543059028306\n",
      "Epoch 10/50 the loss is = 0.11905367764752159\n",
      "Epoch 11/50 the loss is = 0.11441309839210477\n",
      "Epoch 12/50 the loss is = 0.11001710714577272\n",
      "Epoch 13/50 the loss is = 0.10606580968044071\n",
      "Epoch 14/50 the loss is = 0.10215520817321241\n",
      "Epoch 15/50 the loss is = 0.09859433110360577\n",
      "Epoch 16/50 the loss is = 0.0953518693607975\n",
      "Epoch 17/50 the loss is = 0.09212407062610803\n",
      "Epoch 18/50 the loss is = 0.08919222355002825\n",
      "Epoch 19/50 the loss is = 0.08623658450436898\n",
      "Epoch 20/50 the loss is = 0.08364131035626199\n",
      "Epoch 21/50 the loss is = 0.08096191282436971\n",
      "Epoch 22/50 the loss is = 0.07836167041443765\n",
      "Epoch 23/50 the loss is = 0.07622418287527623\n",
      "Epoch 24/50 the loss is = 0.0739214570553595\n",
      "Epoch 25/50 the loss is = 0.07184611730622055\n",
      "Epoch 26/50 the loss is = 0.06976575067663336\n",
      "Epoch 27/50 the loss is = 0.06774025723574548\n",
      "Epoch 28/50 the loss is = 0.0658544827921823\n",
      "Epoch 29/50 the loss is = 0.06398625968596272\n",
      "Epoch 30/50 the loss is = 0.06233986970443224\n",
      "Epoch 31/50 the loss is = 0.060578270290774595\n",
      "Epoch 32/50 the loss is = 0.0588753632847192\n",
      "Epoch 33/50 the loss is = 0.05733001503953228\n",
      "Epoch 34/50 the loss is = 0.05578934081216784\n",
      "Epoch 35/50 the loss is = 0.0543114270107383\n",
      "Epoch 36/50 the loss is = 0.052928639164797626\n",
      "Epoch 37/50 the loss is = 0.0515347087877332\n",
      "Epoch 38/50 the loss is = 0.05018743557350194\n",
      "Epoch 39/50 the loss is = 0.04890732421469767\n",
      "Epoch 40/50 the loss is = 0.04761584362518635\n",
      "Epoch 41/50 the loss is = 0.04652216157610588\n",
      "Epoch 42/50 the loss is = 0.04526925828967811\n",
      "Epoch 43/50 the loss is = 0.0441462863422633\n",
      "Epoch 44/50 the loss is = 0.04290117582050221\n",
      "Epoch 45/50 the loss is = 0.041976103083811396\n",
      "Epoch 46/50 the loss is = 0.040867236503136055\n",
      "Epoch 47/50 the loss is = 0.039827400684423024\n",
      "Epoch 48/50 the loss is = 0.038794831780618724\n",
      "Epoch 49/50 the loss is = 0.03799743562990882\n",
      "Calculating errors on the train and test set\n",
      "Training of network with 700 hidden neurons \n",
      "Epoch 0/50 the loss is = 0.7189862176815874\n",
      "Epoch 1/50 the loss is = 0.30397305450221\n",
      "Epoch 2/50 the loss is = 0.2627262191878623\n",
      "Epoch 3/50 the loss is = 0.2412981864832975\n",
      "Epoch 4/50 the loss is = 0.22816789766737172\n",
      "Epoch 5/50 the loss is = 0.21595607190618188\n",
      "Epoch 6/50 the loss is = 0.20653958952726129\n",
      "Epoch 7/50 the loss is = 0.19829161080751945\n",
      "Epoch 8/50 the loss is = 0.18973635858380936\n",
      "Epoch 9/50 the loss is = 0.18179206896555605\n",
      "Epoch 10/50 the loss is = 0.17498963703798945\n",
      "Epoch 11/50 the loss is = 0.16743613830732093\n",
      "Epoch 12/50 the loss is = 0.16123597217630678\n",
      "Epoch 13/50 the loss is = 0.1546255655499835\n",
      "Epoch 14/50 the loss is = 0.1489238750424231\n",
      "Epoch 15/50 the loss is = 0.1424448740352237\n",
      "Epoch 16/50 the loss is = 0.13609158005636274\n",
      "Epoch 17/50 the loss is = 0.1307761568317984\n",
      "Epoch 18/50 the loss is = 0.12563296316123407\n",
      "Epoch 19/50 the loss is = 0.12093768494799122\n",
      "Epoch 20/50 the loss is = 0.11662649445638931\n",
      "Epoch 21/50 the loss is = 0.11186825452678452\n",
      "Epoch 22/50 the loss is = 0.10708384482316928\n",
      "Epoch 23/50 the loss is = 0.10360330167815412\n",
      "Epoch 24/50 the loss is = 0.099528216375116\n",
      "Epoch 25/50 the loss is = 0.09621267838441827\n",
      "Epoch 26/50 the loss is = 0.09267224072717352\n",
      "Epoch 27/50 the loss is = 0.08924990833719695\n",
      "Epoch 28/50 the loss is = 0.08563270854620914\n",
      "Epoch 29/50 the loss is = 0.08266246249479686\n",
      "Epoch 30/50 the loss is = 0.08007388176832103\n",
      "Epoch 31/50 the loss is = 0.07719272217596329\n",
      "Epoch 32/50 the loss is = 0.0740642686059937\n",
      "Epoch 33/50 the loss is = 0.07187986142989836\n",
      "Epoch 34/50 the loss is = 0.0692941704216884\n",
      "Epoch 35/50 the loss is = 0.0664173847236653\n",
      "Epoch 36/50 the loss is = 0.06442264042068975\n",
      "Epoch 37/50 the loss is = 0.06248945629479645\n",
      "Epoch 38/50 the loss is = 0.06018689588575011\n",
      "Epoch 39/50 the loss is = 0.05819709573289699\n",
      "Epoch 40/50 the loss is = 0.05562626361780076\n",
      "Epoch 41/50 the loss is = 0.053972306651787115\n",
      "Epoch 42/50 the loss is = 0.05231136531966028\n",
      "Epoch 43/50 the loss is = 0.05030632758213412\n",
      "Epoch 44/50 the loss is = 0.04861807019495633\n",
      "Epoch 45/50 the loss is = 0.04622947349636287\n",
      "Epoch 46/50 the loss is = 0.044844530026371614\n",
      "Epoch 47/50 the loss is = 0.043526921575274574\n",
      "Epoch 48/50 the loss is = 0.041621986866300156\n",
      "Epoch 49/50 the loss is = 0.04054145422453152\n",
      "Epoch 0/50 the loss is = 0.36436314587192603\n",
      "Epoch 1/50 the loss is = 0.20158373722673883\n",
      "Epoch 2/50 the loss is = 0.17068116446964837\n",
      "Epoch 3/50 the loss is = 0.15149298151621465\n",
      "Epoch 4/50 the loss is = 0.1378191794969876\n",
      "Epoch 5/50 the loss is = 0.12677646847877205\n",
      "Epoch 6/50 the loss is = 0.11789720856664167\n",
      "Epoch 7/50 the loss is = 0.10994788375034976\n",
      "Epoch 8/50 the loss is = 0.10329311592419772\n",
      "Epoch 9/50 the loss is = 0.09719812575487888\n",
      "Epoch 10/50 the loss is = 0.09204712523412331\n",
      "Epoch 11/50 the loss is = 0.08723376356275345\n",
      "Epoch 12/50 the loss is = 0.08276982230088074\n",
      "Epoch 13/50 the loss is = 0.07879727635529464\n",
      "Epoch 14/50 the loss is = 0.07498414880980454\n",
      "Epoch 15/50 the loss is = 0.0716381736916079\n",
      "Epoch 16/50 the loss is = 0.06847430100029787\n",
      "Epoch 17/50 the loss is = 0.06554645194977086\n",
      "Epoch 18/50 the loss is = 0.06267254798939224\n",
      "Epoch 19/50 the loss is = 0.06007898400016298\n",
      "Epoch 20/50 the loss is = 0.057549069933998796\n",
      "Epoch 21/50 the loss is = 0.05515543158813466\n",
      "Epoch 22/50 the loss is = 0.05294140555564515\n",
      "Epoch 23/50 the loss is = 0.050860843826808486\n",
      "Epoch 24/50 the loss is = 0.048836243623795884\n",
      "Epoch 25/50 the loss is = 0.04699025073765684\n",
      "Epoch 26/50 the loss is = 0.045172796933462135\n",
      "Epoch 27/50 the loss is = 0.043544279555392564\n",
      "Epoch 28/50 the loss is = 0.041923277644493155\n",
      "Epoch 29/50 the loss is = 0.04035552496469337\n",
      "Epoch 30/50 the loss is = 0.03891620786308196\n",
      "Epoch 31/50 the loss is = 0.03748459049774171\n",
      "Epoch 32/50 the loss is = 0.0360780389226291\n",
      "Epoch 33/50 the loss is = 0.0347841703824939\n",
      "Epoch 34/50 the loss is = 0.033534605684393266\n",
      "Epoch 35/50 the loss is = 0.032474939338645085\n",
      "Epoch 36/50 the loss is = 0.03135044142942231\n",
      "Epoch 37/50 the loss is = 0.03023849187738936\n",
      "Epoch 38/50 the loss is = 0.029268246290954248\n",
      "Epoch 39/50 the loss is = 0.028323914250830508\n",
      "Epoch 40/50 the loss is = 0.02732400092830052\n",
      "Epoch 41/50 the loss is = 0.026450803040278165\n",
      "Epoch 42/50 the loss is = 0.025577029150703832\n",
      "Epoch 43/50 the loss is = 0.02471788882109637\n",
      "Epoch 44/50 the loss is = 0.023946649464376343\n",
      "Epoch 45/50 the loss is = 0.023232473202633323\n",
      "Epoch 46/50 the loss is = 0.022439410604973713\n",
      "Epoch 47/50 the loss is = 0.021784886451465858\n",
      "Epoch 48/50 the loss is = 0.02108615505076753\n",
      "Epoch 49/50 the loss is = 0.020438343961892314\n",
      "Calculating errors on the train and test set\n"
     ]
    }
   ],
   "source": [
    "num_layers = 2\n",
    "nhs = [100, 300, 700]\n",
    "error_train_1 = []\n",
    "error_train_2 = []\n",
    "error_test_1 = []\n",
    "error_test_2 = []\n",
    "\n",
    "for nh in nhs:\n",
    "    print(f\"Training of network with {nh} hidden neurons \")\n",
    "    dnn_random = init_DNN(height*width, nh, num_layers)\n",
    "    dnn_pre_trained = init_DNN(height*width, nh, num_layers)\n",
    "\n",
    "    dnn_random = principal_DNN_MNIST(X_train, y_train, n_samples, dnn_random, False, num_epochs_rbm, num_epochs_retro, lr, batch_size)\n",
    "    dnn_pre_trained = principal_DNN_MNIST(X_train, y_train, n_samples, dnn_pre_trained, True, num_epochs_rbm, num_epochs_retro, lr, batch_size)\n",
    "    \n",
    "\n",
    "    ###### Misclassification rates #######\n",
    "    print('Calculating errors on the train and test set')\n",
    "    #Train \n",
    "    error_train_1.append(test_DNN(dnn_random, X_train, y_train))\n",
    "    error_train_2.append(test_DNN(dnn_pre_trained, X_train, y_train))\n",
    "    #Test\n",
    "    error_test_1.append(test_DNN(dnn_random, X_test, y_test))\n",
    "    error_test_2.append(test_DNN(dnn_pre_trained, X_test, y_test))\n"
   ]
  },
  {
   "attachments": {},
   "cell_type": "markdown",
   "id": "181be309",
   "metadata": {},
   "source": [
    "#### Figure 2 : Error rate of train and test sets according to number of hidden neurons "
   ]
  },
  {
   "cell_type": "code",
   "execution_count": 37,
   "id": "abb872a9",
   "metadata": {},
   "outputs": [
    {
     "data": {
      "image/png": "[encoded data removed]",
      "text/plain": [
       "<Figure size 2000x700 with 2 Axes>"
      ]
     },
     "metadata": {},
     "output_type": "display_data"
    }
   ],
   "source": [
    "fig = plt.figure(figsize=(20,7))\n",
    "\n",
    "ax = fig.add_subplot(1, 2, 2)\n",
    "plt.plot(nhs, error_test_1, label='DNN Random', marker='o')\n",
    "plt.plot(nhs, error_test_2, label='DNN Pre-trained', marker='o')\n",
    "plt.xlabel(\"Number of hidden neurons\")\n",
    "plt.ylabel(\"Error rate\")\n",
    "plt.title(\"Error rate of test according to number of hidden neurons\")\n",
    "plt.legend()\n",
    "\n",
    "ax = fig.add_subplot(1, 2, 1)\n",
    "plt.plot(nhs, error_train_1, label='DNN Random', marker='o')\n",
    "plt.plot(nhs, error_train_2, label='DNN Pre-trained', marker='o')\n",
    "plt.xlabel(\"Number of hidden neurons\")\n",
    "plt.ylabel(\"Error rate\")\n",
    "plt.title(\"Error rate of train according to number of hidden neurons\")\n",
    "plt.legend()\n",
    "\n",
    "plt.savefig(\"Fig2.pdf\", format=\"pdf\", bbox_inches=\"tight\")"
   ]
  },
  {
   "cell_type": "code",
   "execution_count": 38,
   "id": "44962160",
   "metadata": {},
   "outputs": [
    {
     "name": "stdout",
     "output_type": "stream",
     "text": [
      "Training of network with 3000 of train set \n",
      "Epoch 0/50 the loss is = 0.16703089594814527\n",
      "Epoch 1/50 the loss is = 0.15509322485628757\n",
      "Epoch 2/50 the loss is = 0.14013648042455315\n",
      "Epoch 3/50 the loss is = 0.12246804825161701\n",
      "Epoch 4/50 the loss is = 0.10395601151213403\n",
      "Epoch 5/50 the loss is = 0.0888899313878022\n",
      "Epoch 6/50 the loss is = 0.07710724890010208\n",
      "Epoch 7/50 the loss is = 0.06767300339634194\n",
      "Epoch 8/50 the loss is = 0.061045315176167646\n",
      "Epoch 9/50 the loss is = 0.05541019537170407\n",
      "Epoch 10/50 the loss is = 0.051139929043322326\n",
      "Epoch 11/50 the loss is = 0.047844226421011236\n",
      "Epoch 12/50 the loss is = 0.04460898875425727\n",
      "Epoch 13/50 the loss is = 0.04217674191107284\n",
      "Epoch 14/50 the loss is = 0.03986557398287873\n",
      "Epoch 15/50 the loss is = 0.03793736513399497\n",
      "Epoch 16/50 the loss is = 0.036373947750720954\n",
      "Epoch 17/50 the loss is = 0.034952595057130297\n",
      "Epoch 18/50 the loss is = 0.03373397150928691\n",
      "Epoch 19/50 the loss is = 0.03226521238853853\n",
      "Epoch 20/50 the loss is = 0.031427406362370916\n",
      "Epoch 21/50 the loss is = 0.03058876360006334\n",
      "Epoch 22/50 the loss is = 0.029552309703620185\n",
      "Epoch 23/50 the loss is = 0.02872471810853105\n",
      "Epoch 24/50 the loss is = 0.02801431403155328\n",
      "Epoch 25/50 the loss is = 0.02715227062422778\n",
      "Epoch 26/50 the loss is = 0.02645055320309883\n",
      "Epoch 27/50 the loss is = 0.02580572462091347\n",
      "Epoch 28/50 the loss is = 0.025081578933538524\n",
      "Epoch 29/50 the loss is = 0.02460509817771236\n",
      "Epoch 30/50 the loss is = 0.02421035881698279\n",
      "Epoch 31/50 the loss is = 0.023684812597710207\n",
      "Epoch 32/50 the loss is = 0.02322070123494307\n",
      "Epoch 33/50 the loss is = 0.022564270322853866\n",
      "Epoch 34/50 the loss is = 0.022088156849183947\n",
      "Epoch 35/50 the loss is = 0.02162789859765435\n",
      "Epoch 36/50 the loss is = 0.02137574093233586\n",
      "Epoch 37/50 the loss is = 0.020874214495287126\n",
      "Epoch 38/50 the loss is = 0.020497728035108503\n",
      "Epoch 39/50 the loss is = 0.020148888011568344\n",
      "Epoch 40/50 the loss is = 0.01976647229298364\n",
      "Epoch 41/50 the loss is = 0.019442077390263816\n",
      "Epoch 42/50 the loss is = 0.018998583394403\n",
      "Epoch 43/50 the loss is = 0.01879072788883086\n",
      "Epoch 44/50 the loss is = 0.018444565310933532\n",
      "Epoch 45/50 the loss is = 0.018051685798506144\n",
      "Epoch 46/50 the loss is = 0.017734387411790037\n",
      "Epoch 47/50 the loss is = 0.01748192646276499\n",
      "Epoch 48/50 the loss is = 0.01711510754962761\n",
      "Epoch 49/50 the loss is = 0.01693488372891653\n",
      "Epoch 0/50 the loss is = 0.10378581269588005\n",
      "Epoch 1/50 the loss is = 0.0548247925937825\n",
      "Epoch 2/50 the loss is = 0.04292686305226214\n",
      "Epoch 3/50 the loss is = 0.037183859763759736\n",
      "Epoch 4/50 the loss is = 0.03360756135389081\n",
      "Epoch 5/50 the loss is = 0.031230489786552514\n",
      "Epoch 6/50 the loss is = 0.029327838983640817\n",
      "Epoch 7/50 the loss is = 0.02779326394273599\n",
      "Epoch 8/50 the loss is = 0.026578630889233092\n",
      "Epoch 9/50 the loss is = 0.025504555808694263\n",
      "Epoch 10/50 the loss is = 0.02461559046624096\n",
      "Epoch 11/50 the loss is = 0.023764513848923956\n",
      "Epoch 12/50 the loss is = 0.023137976964014782\n",
      "Epoch 13/50 the loss is = 0.022357311305606056\n",
      "Epoch 14/50 the loss is = 0.021753720012149785\n",
      "Epoch 15/50 the loss is = 0.02116747221443213\n",
      "Epoch 16/50 the loss is = 0.020651828047269633\n",
      "Epoch 17/50 the loss is = 0.020138938552040422\n",
      "Epoch 18/50 the loss is = 0.019683633101084605\n",
      "Epoch 19/50 the loss is = 0.019243315074354672\n",
      "Epoch 20/50 the loss is = 0.018779091735709564\n",
      "Epoch 21/50 the loss is = 0.01838468888337941\n",
      "Epoch 22/50 the loss is = 0.017942686075836486\n",
      "Epoch 23/50 the loss is = 0.01760406504363903\n",
      "Epoch 24/50 the loss is = 0.01727669284663576\n",
      "Epoch 25/50 the loss is = 0.016953743488052793\n",
      "Epoch 26/50 the loss is = 0.01657261372591804\n",
      "Epoch 27/50 the loss is = 0.016317622303108167\n",
      "Epoch 28/50 the loss is = 0.01597512436970958\n",
      "Epoch 29/50 the loss is = 0.015711412493546698\n",
      "Epoch 30/50 the loss is = 0.015379536094299855\n",
      "Epoch 31/50 the loss is = 0.015126162107886278\n",
      "Epoch 32/50 the loss is = 0.014856828117175648\n",
      "Epoch 33/50 the loss is = 0.0146158976987396\n",
      "Epoch 34/50 the loss is = 0.014322467756783645\n",
      "Epoch 35/50 the loss is = 0.014127873186638204\n",
      "Epoch 36/50 the loss is = 0.013879156576836416\n",
      "Epoch 37/50 the loss is = 0.013642775194725962\n",
      "Epoch 38/50 the loss is = 0.013405439058084473\n",
      "Epoch 39/50 the loss is = 0.013179616154098841\n",
      "Epoch 40/50 the loss is = 0.012947483238185583\n",
      "Epoch 41/50 the loss is = 0.012730024266602791\n",
      "Epoch 42/50 the loss is = 0.012566080689826144\n",
      "Epoch 43/50 the loss is = 0.012349351382526958\n",
      "Epoch 44/50 the loss is = 0.012138567275203136\n",
      "Epoch 45/50 the loss is = 0.011923289279149948\n",
      "Epoch 46/50 the loss is = 0.011753179650947958\n",
      "Epoch 47/50 the loss is = 0.01155339338941568\n",
      "Epoch 48/50 the loss is = 0.01140052036371299\n",
      "Epoch 49/50 the loss is = 0.01120170139485216\n",
      "Calculating errors on the train and test set\n",
      "Training of network with 7000 of train set \n",
      "Epoch 0/50 the loss is = 0.3676605678726902\n",
      "Epoch 1/50 the loss is = 0.2795429102745038\n",
      "Epoch 2/50 the loss is = 0.19191469909383035\n",
      "Epoch 3/50 the loss is = 0.14336982757712374\n",
      "Epoch 4/50 the loss is = 0.11707561547808334\n",
      "Epoch 5/50 the loss is = 0.10154463373376707\n",
      "Epoch 6/50 the loss is = 0.09074741557436194\n",
      "Epoch 7/50 the loss is = 0.08308424052739315\n",
      "Epoch 8/50 the loss is = 0.07739363070288578\n",
      "Epoch 9/50 the loss is = 0.07247788118355336\n",
      "Epoch 10/50 the loss is = 0.06903000877285254\n",
      "Epoch 11/50 the loss is = 0.06601926897852002\n",
      "Epoch 12/50 the loss is = 0.063313666768278\n",
      "Epoch 13/50 the loss is = 0.06100931164309017\n",
      "Epoch 14/50 the loss is = 0.05872865680447936\n",
      "Epoch 15/50 the loss is = 0.05718686691125386\n",
      "Epoch 16/50 the loss is = 0.055493511901846204\n",
      "Epoch 17/50 the loss is = 0.05390044027049278\n",
      "Epoch 18/50 the loss is = 0.05271592966208164\n",
      "Epoch 19/50 the loss is = 0.0514674088546888\n",
      "Epoch 20/50 the loss is = 0.04986768722516542\n",
      "Epoch 21/50 the loss is = 0.04925618202349664\n",
      "Epoch 22/50 the loss is = 0.047902277411225984\n",
      "Epoch 23/50 the loss is = 0.047019414187889394\n",
      "Epoch 24/50 the loss is = 0.04577049606530521\n",
      "Epoch 25/50 the loss is = 0.04444088290316699\n",
      "Epoch 26/50 the loss is = 0.043838073687266124\n",
      "Epoch 27/50 the loss is = 0.04299236988135288\n",
      "Epoch 28/50 the loss is = 0.0420005071521698\n",
      "Epoch 29/50 the loss is = 0.041741474604393945\n",
      "Epoch 30/50 the loss is = 0.040840425106952405\n",
      "Epoch 31/50 the loss is = 0.03955176682236688\n",
      "Epoch 32/50 the loss is = 0.03873587448097296\n",
      "Epoch 33/50 the loss is = 0.03807512625400439\n",
      "Epoch 34/50 the loss is = 0.037104028407780994\n",
      "Epoch 35/50 the loss is = 0.03671799775031547\n",
      "Epoch 36/50 the loss is = 0.03612468433008688\n",
      "Epoch 37/50 the loss is = 0.035509332105293896\n",
      "Epoch 38/50 the loss is = 0.03442882276475698\n",
      "Epoch 39/50 the loss is = 0.03397077299882937\n",
      "Epoch 40/50 the loss is = 0.03361269455402738\n",
      "Epoch 41/50 the loss is = 0.03269189688253121\n",
      "Epoch 42/50 the loss is = 0.03194440973092578\n",
      "Epoch 43/50 the loss is = 0.03176529250092353\n",
      "Epoch 44/50 the loss is = 0.030832948348032494\n",
      "Epoch 45/50 the loss is = 0.030269969598715505\n",
      "Epoch 46/50 the loss is = 0.02964534584192967\n",
      "Epoch 47/50 the loss is = 0.029339711611780662\n",
      "Epoch 48/50 the loss is = 0.02849800316621539\n",
      "Epoch 49/50 the loss is = 0.028229193720746625\n",
      "Epoch 0/50 the loss is = 0.17628804038185164\n",
      "Epoch 1/50 the loss is = 0.08730498810946598\n",
      "Epoch 2/50 the loss is = 0.07143514890795359\n",
      "Epoch 3/50 the loss is = 0.06327798103662972\n",
      "Epoch 4/50 the loss is = 0.05875999218218124\n",
      "Epoch 5/50 the loss is = 0.05493964732927925\n",
      "Epoch 6/50 the loss is = 0.05238834407658118\n",
      "Epoch 7/50 the loss is = 0.05013606153367712\n",
      "Epoch 8/50 the loss is = 0.047894996876847215\n",
      "Epoch 9/50 the loss is = 0.04654188565299805\n",
      "Epoch 10/50 the loss is = 0.04517312526415025\n",
      "Epoch 11/50 the loss is = 0.04365829557466518\n",
      "Epoch 12/50 the loss is = 0.04226416808390351\n",
      "Epoch 13/50 the loss is = 0.04107196745107407\n",
      "Epoch 14/50 the loss is = 0.040352291933734886\n",
      "Epoch 15/50 the loss is = 0.03922800785682766\n",
      "Epoch 16/50 the loss is = 0.0382907918317321\n",
      "Epoch 17/50 the loss is = 0.03745888313603998\n",
      "Epoch 18/50 the loss is = 0.03650231218157655\n",
      "Epoch 19/50 the loss is = 0.03571018345179522\n",
      "Epoch 20/50 the loss is = 0.03487331511837835\n",
      "Epoch 21/50 the loss is = 0.034371539772104116\n",
      "Epoch 22/50 the loss is = 0.03374142048885104\n",
      "Epoch 23/50 the loss is = 0.03296481462178436\n",
      "Epoch 24/50 the loss is = 0.0322089444476813\n",
      "Epoch 25/50 the loss is = 0.032003546741881314\n",
      "Epoch 26/50 the loss is = 0.030978029151797037\n",
      "Epoch 27/50 the loss is = 0.030356814605985275\n",
      "Epoch 28/50 the loss is = 0.02978442610672854\n",
      "Epoch 29/50 the loss is = 0.029313899667364928\n",
      "Epoch 30/50 the loss is = 0.028728453058609146\n",
      "Epoch 31/50 the loss is = 0.028154894462285918\n",
      "Epoch 32/50 the loss is = 0.027726492431051294\n",
      "Epoch 33/50 the loss is = 0.027365887106918195\n",
      "Epoch 34/50 the loss is = 0.027103241488049237\n",
      "Epoch 35/50 the loss is = 0.026302093296985983\n",
      "Epoch 36/50 the loss is = 0.025827553625416836\n",
      "Epoch 37/50 the loss is = 0.025460897907834214\n",
      "Epoch 38/50 the loss is = 0.02495016558892094\n",
      "Epoch 39/50 the loss is = 0.02482369881013683\n",
      "Epoch 40/50 the loss is = 0.024219274986040523\n",
      "Epoch 41/50 the loss is = 0.02370075117501555\n",
      "Epoch 42/50 the loss is = 0.02341680112642503\n",
      "Epoch 43/50 the loss is = 0.02295706329857498\n",
      "Epoch 44/50 the loss is = 0.022502893070955203\n",
      "Epoch 45/50 the loss is = 0.022230452402871054\n",
      "Epoch 46/50 the loss is = 0.021846335166830846\n",
      "Epoch 47/50 the loss is = 0.021385910404025734\n",
      "Epoch 48/50 the loss is = 0.021090739097960946\n",
      "Epoch 49/50 the loss is = 0.020734428230471048\n",
      "Calculating errors on the train and test set\n",
      "Training of network with 10000 of train set \n",
      "Epoch 0/50 the loss is = 0.5112838686475841\n",
      "Epoch 1/50 the loss is = 0.3343884178804027\n",
      "Epoch 2/50 the loss is = 0.21266037373890395\n",
      "Epoch 3/50 the loss is = 0.16182793888859429\n",
      "Epoch 4/50 the loss is = 0.13561828235499065\n",
      "Epoch 5/50 the loss is = 0.11973672253618446\n",
      "Epoch 6/50 the loss is = 0.10949828485421821\n",
      "Epoch 7/50 the loss is = 0.1019103417402783\n",
      "Epoch 8/50 the loss is = 0.09654346090315503\n",
      "Epoch 9/50 the loss is = 0.09189303145149016\n",
      "Epoch 10/50 the loss is = 0.0879530610328754\n",
      "Epoch 11/50 the loss is = 0.08451242816520055\n",
      "Epoch 12/50 the loss is = 0.08163660015650034\n",
      "Epoch 13/50 the loss is = 0.07959869013756586\n",
      "Epoch 14/50 the loss is = 0.07705125398700803\n",
      "Epoch 15/50 the loss is = 0.07475086035987244\n",
      "Epoch 16/50 the loss is = 0.0733888776690613\n",
      "Epoch 17/50 the loss is = 0.0720769602931983\n",
      "Epoch 18/50 the loss is = 0.06980743970524778\n",
      "Epoch 19/50 the loss is = 0.06794541138744714\n",
      "Epoch 20/50 the loss is = 0.06659599675581306\n",
      "Epoch 21/50 the loss is = 0.06513705676878727\n",
      "Epoch 22/50 the loss is = 0.06441654409544154\n",
      "Epoch 23/50 the loss is = 0.0620099509243989\n",
      "Epoch 24/50 the loss is = 0.06091462337644904\n",
      "Epoch 25/50 the loss is = 0.0598680421825232\n",
      "Epoch 26/50 the loss is = 0.0580436736787034\n",
      "Epoch 27/50 the loss is = 0.0569571991608384\n",
      "Epoch 28/50 the loss is = 0.055725480386695656\n",
      "Epoch 29/50 the loss is = 0.05462258837067509\n",
      "Epoch 30/50 the loss is = 0.05341136875340107\n",
      "Epoch 31/50 the loss is = 0.05244366695659252\n",
      "Epoch 32/50 the loss is = 0.05141831551246188\n",
      "Epoch 33/50 the loss is = 0.04982974387780873\n",
      "Epoch 34/50 the loss is = 0.04886034984745755\n",
      "Epoch 35/50 the loss is = 0.04791476428853546\n",
      "Epoch 36/50 the loss is = 0.04666186408110535\n",
      "Epoch 37/50 the loss is = 0.04602512469460927\n",
      "Epoch 38/50 the loss is = 0.044590822065971\n",
      "Epoch 39/50 the loss is = 0.04382146674924814\n",
      "Epoch 40/50 the loss is = 0.042677918459411934\n",
      "Epoch 41/50 the loss is = 0.042102899535909434\n",
      "Epoch 42/50 the loss is = 0.04102938143348486\n",
      "Epoch 43/50 the loss is = 0.03979190605619433\n",
      "Epoch 44/50 the loss is = 0.03883174018741712\n",
      "Epoch 45/50 the loss is = 0.03811499420566124\n",
      "Epoch 46/50 the loss is = 0.03731911745266969\n",
      "Epoch 47/50 the loss is = 0.036362999782552904\n",
      "Epoch 48/50 the loss is = 0.03545902163486222\n",
      "Epoch 49/50 the loss is = 0.03469781802699876\n",
      "Epoch 0/50 the loss is = 0.22786133804999065\n",
      "Epoch 1/50 the loss is = 0.11221976795687828\n",
      "Epoch 2/50 the loss is = 0.0932443310012326\n",
      "Epoch 3/50 the loss is = 0.08413429349281525\n",
      "Epoch 4/50 the loss is = 0.07745749325472288\n",
      "Epoch 5/50 the loss is = 0.07343194550366994\n",
      "Epoch 6/50 the loss is = 0.06957429332188676\n",
      "Epoch 7/50 the loss is = 0.06648834798127039\n",
      "Epoch 8/50 the loss is = 0.0637637734037556\n",
      "Epoch 9/50 the loss is = 0.06200907817397029\n",
      "Epoch 10/50 the loss is = 0.059616761282132176\n",
      "Epoch 11/50 the loss is = 0.05782456450354409\n",
      "Epoch 12/50 the loss is = 0.05630308319248583\n",
      "Epoch 13/50 the loss is = 0.05440538067734356\n",
      "Epoch 14/50 the loss is = 0.053090616411866\n",
      "Epoch 15/50 the loss is = 0.05174636725941878\n",
      "Epoch 16/50 the loss is = 0.05100917034831458\n",
      "Epoch 17/50 the loss is = 0.04983618141070595\n",
      "Epoch 18/50 the loss is = 0.04819998176885364\n",
      "Epoch 19/50 the loss is = 0.046927469938075464\n",
      "Epoch 20/50 the loss is = 0.04587310093436236\n",
      "Epoch 21/50 the loss is = 0.04485221489479895\n",
      "Epoch 22/50 the loss is = 0.044016676575270725\n",
      "Epoch 23/50 the loss is = 0.04310741042718754\n",
      "Epoch 24/50 the loss is = 0.04207949737127186\n",
      "Epoch 25/50 the loss is = 0.04141860332754226\n",
      "Epoch 26/50 the loss is = 0.040368149982373085\n",
      "Epoch 27/50 the loss is = 0.03973308312929345\n",
      "Epoch 28/50 the loss is = 0.03881690493415798\n",
      "Epoch 29/50 the loss is = 0.038091404459986905\n",
      "Epoch 30/50 the loss is = 0.03735949553805684\n",
      "Epoch 31/50 the loss is = 0.03674648692321467\n",
      "Epoch 32/50 the loss is = 0.03634618124274045\n",
      "Epoch 33/50 the loss is = 0.03522697450254453\n",
      "Epoch 34/50 the loss is = 0.03468743672374321\n",
      "Epoch 35/50 the loss is = 0.03392696549448183\n",
      "Epoch 36/50 the loss is = 0.0332938263882657\n",
      "Epoch 37/50 the loss is = 0.033138039062527935\n",
      "Epoch 38/50 the loss is = 0.03210080789845603\n",
      "Epoch 39/50 the loss is = 0.03168234837598289\n",
      "Epoch 40/50 the loss is = 0.03134313250807278\n",
      "Epoch 41/50 the loss is = 0.030428398148616767\n",
      "Epoch 42/50 the loss is = 0.029952349699015654\n",
      "Epoch 43/50 the loss is = 0.029346625687641435\n",
      "Epoch 44/50 the loss is = 0.02891685925768774\n",
      "Epoch 45/50 the loss is = 0.028481595053369564\n",
      "Epoch 46/50 the loss is = 0.027900568403921962\n",
      "Epoch 47/50 the loss is = 0.02755499248809589\n",
      "Epoch 48/50 the loss is = 0.026947412167147657\n",
      "Epoch 49/50 the loss is = 0.026449824500259407\n",
      "Calculating errors on the train and test set\n",
      "Training of network with 30000 of train set \n",
      "Epoch 0/50 the loss is = 1.0439967105066827\n",
      "Epoch 1/50 the loss is = 0.4074447566030877\n",
      "Epoch 2/50 the loss is = 0.30793751737802794\n",
      "Epoch 3/50 the loss is = 0.26864168275849004\n",
      "Epoch 4/50 the loss is = 0.24685739944454185\n",
      "Epoch 5/50 the loss is = 0.23124394164585133\n",
      "Epoch 6/50 the loss is = 0.2189843954970748\n",
      "Epoch 7/50 the loss is = 0.2083404548707007\n",
      "Epoch 8/50 the loss is = 0.19927215949734553\n",
      "Epoch 9/50 the loss is = 0.1901267142763933\n",
      "Epoch 10/50 the loss is = 0.18191688607590836\n",
      "Epoch 11/50 the loss is = 0.17461972664533448\n",
      "Epoch 12/50 the loss is = 0.16743943810790415\n",
      "Epoch 13/50 the loss is = 0.16076687140214588\n",
      "Epoch 14/50 the loss is = 0.15413909387194236\n",
      "Epoch 15/50 the loss is = 0.14786965243487224\n",
      "Epoch 16/50 the loss is = 0.14167567672689596\n",
      "Epoch 17/50 the loss is = 0.1359695483997689\n",
      "Epoch 18/50 the loss is = 0.13056996412003452\n",
      "Epoch 19/50 the loss is = 0.12544433183976655\n",
      "Epoch 20/50 the loss is = 0.12020143708605502\n",
      "Epoch 21/50 the loss is = 0.11561941732432439\n",
      "Epoch 22/50 the loss is = 0.11084522154792743\n",
      "Epoch 23/50 the loss is = 0.1070570845005989\n",
      "Epoch 24/50 the loss is = 0.1026503323357626\n",
      "Epoch 25/50 the loss is = 0.09888055733421525\n",
      "Epoch 26/50 the loss is = 0.09524931066181215\n",
      "Epoch 27/50 the loss is = 0.09149514101644449\n",
      "Epoch 28/50 the loss is = 0.08820053206497236\n",
      "Epoch 29/50 the loss is = 0.08483190981762016\n",
      "Epoch 30/50 the loss is = 0.0816212839837388\n",
      "Epoch 31/50 the loss is = 0.07860853189149168\n",
      "Epoch 32/50 the loss is = 0.07573066467634185\n",
      "Epoch 33/50 the loss is = 0.07293875376016999\n",
      "Epoch 34/50 the loss is = 0.07036561373068845\n",
      "Epoch 35/50 the loss is = 0.06769364643994592\n",
      "Epoch 36/50 the loss is = 0.06526124785090356\n",
      "Epoch 37/50 the loss is = 0.0628165070497193\n",
      "Epoch 38/50 the loss is = 0.06047214003352331\n",
      "Epoch 39/50 the loss is = 0.05830663939050474\n",
      "Epoch 40/50 the loss is = 0.05627211666955747\n",
      "Epoch 41/50 the loss is = 0.05454746942715056\n",
      "Epoch 42/50 the loss is = 0.05184647330364328\n",
      "Epoch 43/50 the loss is = 0.050599704114416076\n",
      "Epoch 44/50 the loss is = 0.04849735563975941\n",
      "Epoch 45/50 the loss is = 0.04683793440181801\n",
      "Epoch 46/50 the loss is = 0.04508624295483911\n",
      "Epoch 47/50 the loss is = 0.04335245237493552\n",
      "Epoch 48/50 the loss is = 0.041636606337888696\n",
      "Epoch 49/50 the loss is = 0.040302402087685985\n",
      "Epoch 0/50 the loss is = 0.4456549891927649\n",
      "Epoch 1/50 the loss is = 0.24814445164622936\n",
      "Epoch 2/50 the loss is = 0.21494718771490195\n",
      "Epoch 3/50 the loss is = 0.19606259418788882\n",
      "Epoch 4/50 the loss is = 0.1821554731048742\n",
      "Epoch 5/50 the loss is = 0.171645794202494\n",
      "Epoch 6/50 the loss is = 0.16287450718260502\n",
      "Epoch 7/50 the loss is = 0.15498267926121226\n",
      "Epoch 8/50 the loss is = 0.14824692790686622\n",
      "Epoch 9/50 the loss is = 0.1421787562594887\n",
      "Epoch 10/50 the loss is = 0.13697709329073204\n",
      "Epoch 11/50 the loss is = 0.13204730425223102\n",
      "Epoch 12/50 the loss is = 0.12737956016665353\n",
      "Epoch 13/50 the loss is = 0.12302698086531938\n",
      "Epoch 14/50 the loss is = 0.1194199794243134\n",
      "Epoch 15/50 the loss is = 0.11570872869565152\n",
      "Epoch 16/50 the loss is = 0.11219842741740128\n",
      "Epoch 17/50 the loss is = 0.10904794785427327\n",
      "Epoch 18/50 the loss is = 0.10595562275278186\n",
      "Epoch 19/50 the loss is = 0.10301297559281687\n",
      "Epoch 20/50 the loss is = 0.10014100475121318\n",
      "Epoch 21/50 the loss is = 0.09758202442909993\n",
      "Epoch 22/50 the loss is = 0.09509674929229424\n",
      "Epoch 23/50 the loss is = 0.09250758475010319\n",
      "Epoch 24/50 the loss is = 0.09026943026074093\n",
      "Epoch 25/50 the loss is = 0.0881209913697596\n",
      "Epoch 26/50 the loss is = 0.08584920840267797\n",
      "Epoch 27/50 the loss is = 0.08379553531482015\n",
      "Epoch 28/50 the loss is = 0.08175444746625621\n",
      "Epoch 29/50 the loss is = 0.07977844174390844\n",
      "Epoch 30/50 the loss is = 0.07792705929633298\n",
      "Epoch 31/50 the loss is = 0.07628288518589117\n",
      "Epoch 32/50 the loss is = 0.07442413042818878\n",
      "Epoch 33/50 the loss is = 0.0727437272835995\n",
      "Epoch 34/50 the loss is = 0.07118032760752604\n",
      "Epoch 35/50 the loss is = 0.06965977125647677\n",
      "Epoch 36/50 the loss is = 0.06806178763854724\n",
      "Epoch 37/50 the loss is = 0.0665215387646165\n",
      "Epoch 38/50 the loss is = 0.06527192185292767\n",
      "Epoch 39/50 the loss is = 0.06368631351177735\n",
      "Epoch 40/50 the loss is = 0.06239992310409341\n",
      "Epoch 41/50 the loss is = 0.061076748607054664\n",
      "Epoch 42/50 the loss is = 0.059803404925506023\n",
      "Epoch 43/50 the loss is = 0.05856181596412544\n",
      "Epoch 44/50 the loss is = 0.05734293562847135\n",
      "Epoch 45/50 the loss is = 0.05611740382285571\n",
      "Epoch 46/50 the loss is = 0.055084407581802164\n",
      "Epoch 47/50 the loss is = 0.0538513583256331\n",
      "Epoch 48/50 the loss is = 0.05273399239838617\n",
      "Epoch 49/50 the loss is = 0.051693411166831266\n",
      "Calculating errors on the train and test set\n",
      "Training of network with 60000 of train set \n",
      "Epoch 0/50 the loss is = 1.463669868333451\n",
      "Epoch 1/50 the loss is = 0.5856720669323134\n",
      "Epoch 2/50 the loss is = 0.4895468734802603\n",
      "Epoch 3/50 the loss is = 0.4411360662203218\n",
      "Epoch 4/50 the loss is = 0.4063256712663821\n",
      "Epoch 5/50 the loss is = 0.3756234795056514\n",
      "Epoch 6/50 the loss is = 0.3491556178968944\n",
      "Epoch 7/50 the loss is = 0.32467239452682434\n",
      "Epoch 8/50 the loss is = 0.3031403621709896\n",
      "Epoch 9/50 the loss is = 0.28329469303338534\n",
      "Epoch 10/50 the loss is = 0.26460722998526615\n",
      "Epoch 11/50 the loss is = 0.2477429593873065\n",
      "Epoch 12/50 the loss is = 0.23294552403695176\n",
      "Epoch 13/50 the loss is = 0.21953422051680796\n",
      "Epoch 14/50 the loss is = 0.2071124035837913\n",
      "Epoch 15/50 the loss is = 0.19501190810548422\n",
      "Epoch 16/50 the loss is = 0.1843822577223068\n",
      "Epoch 17/50 the loss is = 0.17461277521503527\n",
      "Epoch 18/50 the loss is = 0.16551916107231693\n",
      "Epoch 19/50 the loss is = 0.15733322276049308\n",
      "Epoch 20/50 the loss is = 0.1499810450352908\n",
      "Epoch 21/50 the loss is = 0.1421485236189234\n",
      "Epoch 22/50 the loss is = 0.13481695009912553\n",
      "Epoch 23/50 the loss is = 0.12856859622000388\n",
      "Epoch 24/50 the loss is = 0.12212225951472877\n",
      "Epoch 25/50 the loss is = 0.11655921232142855\n",
      "Epoch 26/50 the loss is = 0.11139642258462416\n",
      "Epoch 27/50 the loss is = 0.10595953818033425\n",
      "Epoch 28/50 the loss is = 0.10120608649945724\n",
      "Epoch 29/50 the loss is = 0.0963960336761028\n",
      "Epoch 30/50 the loss is = 0.09234172459527136\n",
      "Epoch 31/50 the loss is = 0.08748375041805516\n",
      "Epoch 32/50 the loss is = 0.08390779773136552\n",
      "Epoch 33/50 the loss is = 0.08017571192576237\n",
      "Epoch 34/50 the loss is = 0.07629709943366088\n",
      "Epoch 35/50 the loss is = 0.07302999030039822\n",
      "Epoch 36/50 the loss is = 0.06975868678609234\n",
      "Epoch 37/50 the loss is = 0.06662932741859208\n",
      "Epoch 38/50 the loss is = 0.06386611879952728\n",
      "Epoch 39/50 the loss is = 0.0610416762739346\n",
      "Epoch 40/50 the loss is = 0.057919584526169826\n",
      "Epoch 41/50 the loss is = 0.055463751942314614\n",
      "Epoch 42/50 the loss is = 0.05296927722712383\n",
      "Epoch 43/50 the loss is = 0.05044292478375896\n",
      "Epoch 44/50 the loss is = 0.048502326430450486\n",
      "Epoch 45/50 the loss is = 0.046129142171459775\n",
      "Epoch 46/50 the loss is = 0.0444533157921839\n",
      "Epoch 47/50 the loss is = 0.04220789348851531\n",
      "Epoch 48/50 the loss is = 0.04050058040996447\n",
      "Epoch 49/50 the loss is = 0.038845345676578456\n",
      "Epoch 0/50 the loss is = 0.6897146298849908\n",
      "Epoch 1/50 the loss is = 0.412293009573159\n",
      "Epoch 2/50 the loss is = 0.35799275071458053\n",
      "Epoch 3/50 the loss is = 0.32470077871401354\n",
      "Epoch 4/50 the loss is = 0.3007003170799311\n",
      "Epoch 5/50 the loss is = 0.2805880532088545\n",
      "Epoch 6/50 the loss is = 0.2644205653910842\n",
      "Epoch 7/50 the loss is = 0.25074798726714126\n",
      "Epoch 8/50 the loss is = 0.23827591969326734\n",
      "Epoch 9/50 the loss is = 0.22731168464998472\n",
      "Epoch 10/50 the loss is = 0.21761998531512555\n",
      "Epoch 11/50 the loss is = 0.2086020611094558\n",
      "Epoch 12/50 the loss is = 0.200389101645421\n",
      "Epoch 13/50 the loss is = 0.1928405999770507\n",
      "Epoch 14/50 the loss is = 0.18606354522778407\n",
      "Epoch 15/50 the loss is = 0.17942061182146085\n",
      "Epoch 16/50 the loss is = 0.17327129426792176\n",
      "Epoch 17/50 the loss is = 0.16767304820482545\n",
      "Epoch 18/50 the loss is = 0.16201012750506416\n",
      "Epoch 19/50 the loss is = 0.15726781652100505\n",
      "Epoch 20/50 the loss is = 0.15270111987884927\n",
      "Epoch 21/50 the loss is = 0.14798070430606539\n",
      "Epoch 22/50 the loss is = 0.14372529941795847\n",
      "Epoch 23/50 the loss is = 0.13968896969699152\n",
      "Epoch 24/50 the loss is = 0.13592591770284657\n",
      "Epoch 25/50 the loss is = 0.1323065893967046\n",
      "Epoch 26/50 the loss is = 0.12872246240845334\n",
      "Epoch 27/50 the loss is = 0.1252715668816339\n",
      "Epoch 28/50 the loss is = 0.1220150317505075\n",
      "Epoch 29/50 the loss is = 0.11894934050794456\n",
      "Epoch 30/50 the loss is = 0.11613131646164754\n",
      "Epoch 31/50 the loss is = 0.11313539615678685\n",
      "Epoch 32/50 the loss is = 0.11037474482103493\n",
      "Epoch 33/50 the loss is = 0.10767184900149054\n",
      "Epoch 34/50 the loss is = 0.10513794184242009\n",
      "Epoch 35/50 the loss is = 0.10275178810114488\n",
      "Epoch 36/50 the loss is = 0.10030441023733655\n",
      "Epoch 37/50 the loss is = 0.09817909728481283\n",
      "Epoch 38/50 the loss is = 0.0958406111696611\n",
      "Epoch 39/50 the loss is = 0.09370004753821182\n",
      "Epoch 40/50 the loss is = 0.09149535469668181\n",
      "Epoch 41/50 the loss is = 0.08958434421752498\n",
      "Epoch 42/50 the loss is = 0.0875699733237039\n",
      "Epoch 43/50 the loss is = 0.08568791323546096\n",
      "Epoch 44/50 the loss is = 0.08379581400505606\n",
      "Epoch 45/50 the loss is = 0.08198932231629666\n",
      "Epoch 46/50 the loss is = 0.08022118429616798\n",
      "Epoch 47/50 the loss is = 0.07841813550815327\n",
      "Epoch 48/50 the loss is = 0.0769615638158844\n",
      "Epoch 49/50 the loss is = 0.0752755077098541\n",
      "Calculating errors on the train and test set\n"
     ]
    }
   ],
   "source": [
    "num_layers = 2\n",
    "nh = 200\n",
    "n_samples_list = [3000, 7000, 10000, 30000, 60000]\n",
    "error_train_1 = []\n",
    "error_train_2 = []\n",
    "error_test_1 = []\n",
    "error_test_2 = []\n",
    "\n",
    "for n_samples in n_samples_list:\n",
    "    print(f\"Training of network with {n_samples} of train set \")\n",
    "    dnn_random = init_DNN(height*width, nh, num_layers)\n",
    "    dnn_pre_trained = init_DNN(height*width, nh, num_layers)\n",
    "\n",
    "    dnn_random = principal_DNN_MNIST(X_train, y_train, n_samples, dnn_random, False, num_epochs_rbm, num_epochs_retro, lr, batch_size)\n",
    "    dnn_pre_trained = principal_DNN_MNIST(X_train, y_train, n_samples, dnn_pre_trained, True, num_epochs_rbm, num_epochs_retro, lr, batch_size)\n",
    "    \n",
    "\n",
    "    ###### Misclassification rates #######\n",
    "    print('Calculating errors on the train and test set')\n",
    "    #Train \n",
    "    error_train_1.append(test_DNN(dnn_random, X_train, y_train))\n",
    "    error_train_2.append(test_DNN(dnn_pre_trained, X_train, y_train))\n",
    "    #Test\n",
    "    error_test_1.append(test_DNN(dnn_random, X_test, y_test))\n",
    "    error_test_2.append(test_DNN(dnn_pre_trained, X_test, y_test))"
   ]
  },
  {
   "attachments": {},
   "cell_type": "markdown",
   "id": "3274e508",
   "metadata": {},
   "source": [
    "#### Figure 3 : Error rate of train and test sets according to number of training samples"
   ]
  },
  {
   "cell_type": "code",
   "execution_count": 40,
   "id": "20a9d53b",
   "metadata": {},
   "outputs": [
    {
     "data": {
      "image/png": "[encoded data removed]",
      "text/plain": [
       "<Figure size 2000x700 with 2 Axes>"
      ]
     },
     "metadata": {},
     "output_type": "display_data"
    }
   ],
   "source": [
    "fig = plt.figure(figsize=(20,7))\n",
    "\n",
    "ax = fig.add_subplot(1, 2, 2)\n",
    "plt.plot(n_samples_list, error_test_1, label='DNN Random', marker='o')\n",
    "plt.plot(n_samples_list, error_test_2, label='DNN Pre-trained', marker='o')\n",
    "plt.xlabel(\"Number of training images\")\n",
    "plt.ylabel(\"Error rate\")\n",
    "plt.title(\"Error rate of test according to number of training images\")\n",
    "plt.legend()\n",
    "\n",
    "ax = fig.add_subplot(1, 2, 1)\n",
    "plt.plot(n_samples_list, error_train_1, label='DNN Random', marker='o')\n",
    "plt.plot(n_samples_list, error_train_2, label='DNN Pre-trained', marker='o')\n",
    "plt.xlabel(\"Number of training images\")\n",
    "plt.ylabel(\"Error rate\")\n",
    "plt.title(\"Error rate of train according to number of training images\")\n",
    "plt.legend()\n",
    "\n",
    "plt.savefig(\"Fig3.pdf\", format=\"pdf\", bbox_inches=\"tight\")"
   ]
  },
  {
   "attachments": {},
   "cell_type": "markdown",
   "id": "ee718556",
   "metadata": {},
   "source": [
    "#### $\\bullet$ Bonus : Variational Autoencoder\n"
   ]
  },
  {
   "cell_type": "code",
   "execution_count": 58,
   "id": "0b95357f",
   "metadata": {},
   "outputs": [],
   "source": [
    "import torch \n",
    "import torch.nn as nn\n",
    "import torch.nn.functional as F\n",
    "import torch.optim as optim\n",
    "from torch.utils.data import DataLoader, TensorDataset\n",
    "import time\n",
    "from tqdm.notebook import trange, tqdm\n",
    "import VAEs"
   ]
  },
  {
   "cell_type": "code",
   "execution_count": 60,
   "id": "fd16544b",
   "metadata": {},
   "outputs": [],
   "source": [
    "#Training Parameters \n",
    "batch_size = 64\n",
    "lr = 1e-2\n",
    "device = 'cpu'\n",
    "num_epochs = 50\n",
    "\n",
    "name_model = 'VAE' # VAE or ConvVAE\n",
    "\n",
    "\n",
    "if name_model == \"VAE\":\n",
    "    x_dim = height*width\n",
    "    h_dim1 = 512\n",
    "    h_dim2 = 256\n",
    "    z_dim = 10\n",
    "    model = VAEs.VAE(x_dim=x_dim, h_dim1=h_dim1, h_dim2=h_dim2, z_dim=z_dim).to(device)\n",
    "\n",
    "else:\n",
    "    kernel_size = 4\n",
    "    in_channels = 1\n",
    "    out_channels = 8\n",
    "    latent_size = 16\n",
    "    model = VAEs.ConvVAE(in_channels, out_channels, kernel_size, latent_size)"
   ]
  },
  {
   "cell_type": "code",
   "execution_count": 61,
   "id": "a8e9940c",
   "metadata": {},
   "outputs": [],
   "source": [
    "#Create the dataloader \n",
    "dataset_train = TensorDataset(torch.Tensor(X_train), torch.Tensor(y_train))\n",
    "train_loader = DataLoader(dataset_train, batch_size=batch_size)\n",
    "\n",
    "dataset_test = TensorDataset(torch.Tensor(X_test), torch.Tensor(y_test))\n",
    "test_loader = DataLoader(dataset_test, batch_size=batch_size)"
   ]
  },
  {
   "cell_type": "code",
   "execution_count": 62,
   "id": "1a581aa2",
   "metadata": {},
   "outputs": [],
   "source": [
    "optimizer = optim.Adam(model.parameters())"
   ]
  },
  {
   "cell_type": "code",
   "execution_count": 63,
   "id": "1acbcedc",
   "metadata": {},
   "outputs": [
    {
     "data": {
      "application/vnd.jupyter.widget-view+json": {
       "model_id": "0e9e122330f34d9594d79a3be8d27a2f",
       "version_major": 2,
       "version_minor": 0
      },
      "text/plain": [
       "  0%|          | 0/50 [00:00<?, ?it/s]"
      ]
     },
     "metadata": {},
     "output_type": "display_data"
    },
    {
     "name": "stdout",
     "output_type": "stream",
     "text": [
      "0\n"
     ]
    },
    {
     "data": {
      "application/vnd.jupyter.widget-view+json": {
       "model_id": "4660e449c27b4e6bb6283e654b1af2e8",
       "version_major": 2,
       "version_minor": 0
      },
      "text/plain": [
       "Evaluating:   0%|          | 0/938 [00:00<?, ?it/s]"
      ]
     },
     "metadata": {},
     "output_type": "display_data"
    },
    {
     "data": {
      "application/vnd.jupyter.widget-view+json": {
       "model_id": "8ac9d7bfcf8a47bdb1d25a7db71d3b06",
       "version_major": 2,
       "version_minor": 0
      },
      "text/plain": [
       "Evaluating:   0%|          | 0/157 [00:00<?, ?it/s]"
      ]
     },
     "metadata": {},
     "output_type": "display_data"
    },
    {
     "name": "stdout",
     "output_type": "stream",
     "text": [
      "Epoch: 01 | Epoch Time: 0m 15s\n",
      "\tTrain Loss: 43.9744 \n",
      "\t Val. Loss: 264.3653 \n",
      "1\n"
     ]
    },
    {
     "data": {
      "application/vnd.jupyter.widget-view+json": {
       "model_id": "f48553ea285d42ec9fb11bd0a7ac271c",
       "version_major": 2,
       "version_minor": 0
      },
      "text/plain": [
       "Evaluating:   0%|          | 0/938 [00:00<?, ?it/s]"
      ]
     },
     "metadata": {},
     "output_type": "display_data"
    },
    {
     "data": {
      "application/vnd.jupyter.widget-view+json": {
       "model_id": "bbca130d543147e583ceeec8a61e6f54",
       "version_major": 2,
       "version_minor": 0
      },
      "text/plain": [
       "Evaluating:   0%|          | 0/157 [00:00<?, ?it/s]"
      ]
     },
     "metadata": {},
     "output_type": "display_data"
    },
    {
     "name": "stdout",
     "output_type": "stream",
     "text": [
      "Epoch: 02 | Epoch Time: 0m 14s\n",
      "\tTrain Loss: 43.7404 \n",
      "\t Val. Loss: 263.8691 \n",
      "2\n"
     ]
    },
    {
     "data": {
      "application/vnd.jupyter.widget-view+json": {
       "model_id": "e17c51725d57469fa06bb8468f115693",
       "version_major": 2,
       "version_minor": 0
      },
      "text/plain": [
       "Evaluating:   0%|          | 0/938 [00:00<?, ?it/s]"
      ]
     },
     "metadata": {},
     "output_type": "display_data"
    },
    {
     "data": {
      "application/vnd.jupyter.widget-view+json": {
       "model_id": "1c20a388cfc346c9a77903fd1c284684",
       "version_major": 2,
       "version_minor": 0
      },
      "text/plain": [
       "Evaluating:   0%|          | 0/157 [00:00<?, ?it/s]"
      ]
     },
     "metadata": {},
     "output_type": "display_data"
    },
    {
     "name": "stdout",
     "output_type": "stream",
     "text": [
      "Epoch: 03 | Epoch Time: 0m 14s\n",
      "\tTrain Loss: 43.6959 \n",
      "\t Val. Loss: 263.7201 \n",
      "3\n"
     ]
    },
    {
     "data": {
      "application/vnd.jupyter.widget-view+json": {
       "model_id": "84928dffa84046cb9530c7ab68095980",
       "version_major": 2,
       "version_minor": 0
      },
      "text/plain": [
       "Evaluating:   0%|          | 0/938 [00:00<?, ?it/s]"
      ]
     },
     "metadata": {},
     "output_type": "display_data"
    },
    {
     "data": {
      "application/vnd.jupyter.widget-view+json": {
       "model_id": "92fcf417608a4d79b530cd55c05ea72f",
       "version_major": 2,
       "version_minor": 0
      },
      "text/plain": [
       "Evaluating:   0%|          | 0/157 [00:00<?, ?it/s]"
      ]
     },
     "metadata": {},
     "output_type": "display_data"
    },
    {
     "name": "stdout",
     "output_type": "stream",
     "text": [
      "Epoch: 04 | Epoch Time: 0m 14s\n",
      "\tTrain Loss: 43.6715 \n",
      "\t Val. Loss: 263.5309 \n",
      "4\n"
     ]
    },
    {
     "data": {
      "application/vnd.jupyter.widget-view+json": {
       "model_id": "1641d5ae204145158472066f91771a7a",
       "version_major": 2,
       "version_minor": 0
      },
      "text/plain": [
       "Evaluating:   0%|          | 0/938 [00:00<?, ?it/s]"
      ]
     },
     "metadata": {},
     "output_type": "display_data"
    },
    {
     "data": {
      "application/vnd.jupyter.widget-view+json": {
       "model_id": "1963de6326de43d18110d998abcbf837",
       "version_major": 2,
       "version_minor": 0
      },
      "text/plain": [
       "Evaluating:   0%|          | 0/157 [00:00<?, ?it/s]"
      ]
     },
     "metadata": {},
     "output_type": "display_data"
    },
    {
     "name": "stdout",
     "output_type": "stream",
     "text": [
      "Epoch: 05 | Epoch Time: 0m 14s\n",
      "\tTrain Loss: 43.6439 \n",
      "\t Val. Loss: 263.3276 \n",
      "5\n"
     ]
    },
    {
     "data": {
      "application/vnd.jupyter.widget-view+json": {
       "model_id": "ff8e32d9bf8b4e5dbb32a9b6326f7bde",
       "version_major": 2,
       "version_minor": 0
      },
      "text/plain": [
       "Evaluating:   0%|          | 0/938 [00:00<?, ?it/s]"
      ]
     },
     "metadata": {},
     "output_type": "display_data"
    },
    {
     "data": {
      "application/vnd.jupyter.widget-view+json": {
       "model_id": "e16919cbdfec4a618087a92715e28112",
       "version_major": 2,
       "version_minor": 0
      },
      "text/plain": [
       "Evaluating:   0%|          | 0/157 [00:00<?, ?it/s]"
      ]
     },
     "metadata": {},
     "output_type": "display_data"
    },
    {
     "name": "stdout",
     "output_type": "stream",
     "text": [
      "Epoch: 06 | Epoch Time: 0m 14s\n",
      "\tTrain Loss: 43.6073 \n",
      "\t Val. Loss: 263.1260 \n",
      "6\n"
     ]
    },
    {
     "data": {
      "application/vnd.jupyter.widget-view+json": {
       "model_id": "208468f6a5b746b0b77ed7b4816c4700",
       "version_major": 2,
       "version_minor": 0
      },
      "text/plain": [
       "Evaluating:   0%|          | 0/938 [00:00<?, ?it/s]"
      ]
     },
     "metadata": {},
     "output_type": "display_data"
    },
    {
     "data": {
      "application/vnd.jupyter.widget-view+json": {
       "model_id": "9b223b222f554cffbfc9bbf8ffc14ffd",
       "version_major": 2,
       "version_minor": 0
      },
      "text/plain": [
       "Evaluating:   0%|          | 0/157 [00:00<?, ?it/s]"
      ]
     },
     "metadata": {},
     "output_type": "display_data"
    },
    {
     "name": "stdout",
     "output_type": "stream",
     "text": [
      "Epoch: 07 | Epoch Time: 0m 14s\n",
      "\tTrain Loss: 43.5846 \n",
      "\t Val. Loss: 263.0096 \n",
      "7\n"
     ]
    },
    {
     "data": {
      "application/vnd.jupyter.widget-view+json": {
       "model_id": "d41538b03eb94b0ebad3a53f71a2fd1a",
       "version_major": 2,
       "version_minor": 0
      },
      "text/plain": [
       "Evaluating:   0%|          | 0/938 [00:00<?, ?it/s]"
      ]
     },
     "metadata": {},
     "output_type": "display_data"
    },
    {
     "data": {
      "application/vnd.jupyter.widget-view+json": {
       "model_id": "3cb8d120d77c4fe08c566f3020b5be21",
       "version_major": 2,
       "version_minor": 0
      },
      "text/plain": [
       "Evaluating:   0%|          | 0/157 [00:00<?, ?it/s]"
      ]
     },
     "metadata": {},
     "output_type": "display_data"
    },
    {
     "name": "stdout",
     "output_type": "stream",
     "text": [
      "Epoch: 08 | Epoch Time: 0m 14s\n",
      "\tTrain Loss: 43.5667 \n",
      "\t Val. Loss: 263.0030 \n",
      "8\n"
     ]
    },
    {
     "data": {
      "application/vnd.jupyter.widget-view+json": {
       "model_id": "a4e574af34f643c5b8121e30a844bf29",
       "version_major": 2,
       "version_minor": 0
      },
      "text/plain": [
       "Evaluating:   0%|          | 0/938 [00:00<?, ?it/s]"
      ]
     },
     "metadata": {},
     "output_type": "display_data"
    },
    {
     "data": {
      "application/vnd.jupyter.widget-view+json": {
       "model_id": "628a2935745845b09b04f36460fc79f4",
       "version_major": 2,
       "version_minor": 0
      },
      "text/plain": [
       "Evaluating:   0%|          | 0/157 [00:00<?, ?it/s]"
      ]
     },
     "metadata": {},
     "output_type": "display_data"
    },
    {
     "name": "stdout",
     "output_type": "stream",
     "text": [
      "Epoch: 09 | Epoch Time: 0m 14s\n",
      "\tTrain Loss: 43.5521 \n",
      "\t Val. Loss: 262.8133 \n",
      "9\n"
     ]
    },
    {
     "data": {
      "application/vnd.jupyter.widget-view+json": {
       "model_id": "31e492c4a5bd4ddaa0269911b83d3012",
       "version_major": 2,
       "version_minor": 0
      },
      "text/plain": [
       "Evaluating:   0%|          | 0/938 [00:00<?, ?it/s]"
      ]
     },
     "metadata": {},
     "output_type": "display_data"
    },
    {
     "data": {
      "application/vnd.jupyter.widget-view+json": {
       "model_id": "695dd8b99d734e198f7ec3183d505849",
       "version_major": 2,
       "version_minor": 0
      },
      "text/plain": [
       "Evaluating:   0%|          | 0/157 [00:00<?, ?it/s]"
      ]
     },
     "metadata": {},
     "output_type": "display_data"
    },
    {
     "name": "stdout",
     "output_type": "stream",
     "text": [
      "Epoch: 10 | Epoch Time: 0m 14s\n",
      "\tTrain Loss: 43.5390 \n",
      "\t Val. Loss: 262.7868 \n",
      "10\n"
     ]
    },
    {
     "data": {
      "application/vnd.jupyter.widget-view+json": {
       "model_id": "a10831507fb0426faadb317a76fb50bb",
       "version_major": 2,
       "version_minor": 0
      },
      "text/plain": [
       "Evaluating:   0%|          | 0/938 [00:00<?, ?it/s]"
      ]
     },
     "metadata": {},
     "output_type": "display_data"
    },
    {
     "data": {
      "application/vnd.jupyter.widget-view+json": {
       "model_id": "fd676f70126244978b91403b0925ae45",
       "version_major": 2,
       "version_minor": 0
      },
      "text/plain": [
       "Evaluating:   0%|          | 0/157 [00:00<?, ?it/s]"
      ]
     },
     "metadata": {},
     "output_type": "display_data"
    },
    {
     "name": "stdout",
     "output_type": "stream",
     "text": [
      "Epoch: 11 | Epoch Time: 0m 14s\n",
      "\tTrain Loss: 43.5271 \n",
      "\t Val. Loss: 262.7057 \n",
      "11\n"
     ]
    },
    {
     "data": {
      "application/vnd.jupyter.widget-view+json": {
       "model_id": "7a8daa0a0f5842978759b08a3856c4c6",
       "version_major": 2,
       "version_minor": 0
      },
      "text/plain": [
       "Evaluating:   0%|          | 0/938 [00:00<?, ?it/s]"
      ]
     },
     "metadata": {},
     "output_type": "display_data"
    },
    {
     "data": {
      "application/vnd.jupyter.widget-view+json": {
       "model_id": "2496a42a151f45958870d3604088d805",
       "version_major": 2,
       "version_minor": 0
      },
      "text/plain": [
       "Evaluating:   0%|          | 0/157 [00:00<?, ?it/s]"
      ]
     },
     "metadata": {},
     "output_type": "display_data"
    },
    {
     "name": "stdout",
     "output_type": "stream",
     "text": [
      "Epoch: 12 | Epoch Time: 0m 14s\n",
      "\tTrain Loss: 43.5198 \n",
      "\t Val. Loss: 262.7098 \n",
      "12\n"
     ]
    },
    {
     "data": {
      "application/vnd.jupyter.widget-view+json": {
       "model_id": "ac2a8afccbe44ef5b839fc6029ab5472",
       "version_major": 2,
       "version_minor": 0
      },
      "text/plain": [
       "Evaluating:   0%|          | 0/938 [00:00<?, ?it/s]"
      ]
     },
     "metadata": {},
     "output_type": "display_data"
    },
    {
     "data": {
      "application/vnd.jupyter.widget-view+json": {
       "model_id": "3112dcbdb7fe4e8aaf60fd9b9d44b9e8",
       "version_major": 2,
       "version_minor": 0
      },
      "text/plain": [
       "Evaluating:   0%|          | 0/157 [00:00<?, ?it/s]"
      ]
     },
     "metadata": {},
     "output_type": "display_data"
    },
    {
     "name": "stdout",
     "output_type": "stream",
     "text": [
      "Epoch: 13 | Epoch Time: 0m 14s\n",
      "\tTrain Loss: 43.5100 \n",
      "\t Val. Loss: 262.6932 \n",
      "13\n"
     ]
    },
    {
     "data": {
      "application/vnd.jupyter.widget-view+json": {
       "model_id": "38d4f9cca92848aca386e202f27f2256",
       "version_major": 2,
       "version_minor": 0
      },
      "text/plain": [
       "Evaluating:   0%|          | 0/938 [00:00<?, ?it/s]"
      ]
     },
     "metadata": {},
     "output_type": "display_data"
    },
    {
     "data": {
      "application/vnd.jupyter.widget-view+json": {
       "model_id": "03bf21473ac744daa07b2cf2f58acfda",
       "version_major": 2,
       "version_minor": 0
      },
      "text/plain": [
       "Evaluating:   0%|          | 0/157 [00:00<?, ?it/s]"
      ]
     },
     "metadata": {},
     "output_type": "display_data"
    },
    {
     "name": "stdout",
     "output_type": "stream",
     "text": [
      "Epoch: 14 | Epoch Time: 0m 14s\n",
      "\tTrain Loss: 43.5004 \n",
      "\t Val. Loss: 262.5626 \n",
      "14\n"
     ]
    },
    {
     "data": {
      "application/vnd.jupyter.widget-view+json": {
       "model_id": "ca8e21a6f2be478cb8bb488133566d40",
       "version_major": 2,
       "version_minor": 0
      },
      "text/plain": [
       "Evaluating:   0%|          | 0/938 [00:00<?, ?it/s]"
      ]
     },
     "metadata": {},
     "output_type": "display_data"
    },
    {
     "data": {
      "application/vnd.jupyter.widget-view+json": {
       "model_id": "804859974e544e7580cb90c108b90f7a",
       "version_major": 2,
       "version_minor": 0
      },
      "text/plain": [
       "Evaluating:   0%|          | 0/157 [00:00<?, ?it/s]"
      ]
     },
     "metadata": {},
     "output_type": "display_data"
    },
    {
     "name": "stdout",
     "output_type": "stream",
     "text": [
      "Epoch: 15 | Epoch Time: 0m 13s\n",
      "\tTrain Loss: 43.4914 \n",
      "\t Val. Loss: 262.4995 \n",
      "15\n"
     ]
    },
    {
     "data": {
      "application/vnd.jupyter.widget-view+json": {
       "model_id": "344e9d4a0f9644f88054f1b56aa8fe6c",
       "version_major": 2,
       "version_minor": 0
      },
      "text/plain": [
       "Evaluating:   0%|          | 0/938 [00:00<?, ?it/s]"
      ]
     },
     "metadata": {},
     "output_type": "display_data"
    },
    {
     "data": {
      "application/vnd.jupyter.widget-view+json": {
       "model_id": "3cc5ad8ad22f4c2e9534f5c67027802c",
       "version_major": 2,
       "version_minor": 0
      },
      "text/plain": [
       "Evaluating:   0%|          | 0/157 [00:00<?, ?it/s]"
      ]
     },
     "metadata": {},
     "output_type": "display_data"
    },
    {
     "name": "stdout",
     "output_type": "stream",
     "text": [
      "Epoch: 16 | Epoch Time: 0m 13s\n",
      "\tTrain Loss: 43.4848 \n",
      "\t Val. Loss: 262.6392 \n",
      "16\n"
     ]
    },
    {
     "data": {
      "application/vnd.jupyter.widget-view+json": {
       "model_id": "42a601e3f58243f39656ec3ffafd91e9",
       "version_major": 2,
       "version_minor": 0
      },
      "text/plain": [
       "Evaluating:   0%|          | 0/938 [00:00<?, ?it/s]"
      ]
     },
     "metadata": {},
     "output_type": "display_data"
    },
    {
     "data": {
      "application/vnd.jupyter.widget-view+json": {
       "model_id": "47b1a3ae4f0d47929d97a066a78ad163",
       "version_major": 2,
       "version_minor": 0
      },
      "text/plain": [
       "Evaluating:   0%|          | 0/157 [00:00<?, ?it/s]"
      ]
     },
     "metadata": {},
     "output_type": "display_data"
    },
    {
     "name": "stdout",
     "output_type": "stream",
     "text": [
      "Epoch: 17 | Epoch Time: 0m 13s\n",
      "\tTrain Loss: 43.4773 \n",
      "\t Val. Loss: 262.4772 \n",
      "17\n"
     ]
    },
    {
     "data": {
      "application/vnd.jupyter.widget-view+json": {
       "model_id": "7a2f50d4a6174f85b64489f6678df04b",
       "version_major": 2,
       "version_minor": 0
      },
      "text/plain": [
       "Evaluating:   0%|          | 0/938 [00:00<?, ?it/s]"
      ]
     },
     "metadata": {},
     "output_type": "display_data"
    },
    {
     "data": {
      "application/vnd.jupyter.widget-view+json": {
       "model_id": "e87ef3f3c03d4a95b919ec34ed1c2325",
       "version_major": 2,
       "version_minor": 0
      },
      "text/plain": [
       "Evaluating:   0%|          | 0/157 [00:00<?, ?it/s]"
      ]
     },
     "metadata": {},
     "output_type": "display_data"
    },
    {
     "name": "stdout",
     "output_type": "stream",
     "text": [
      "Epoch: 18 | Epoch Time: 0m 14s\n",
      "\tTrain Loss: 43.4707 \n",
      "\t Val. Loss: 262.4342 \n",
      "18\n"
     ]
    },
    {
     "data": {
      "application/vnd.jupyter.widget-view+json": {
       "model_id": "a9ea137f236b49c88bd46ca42ba85c98",
       "version_major": 2,
       "version_minor": 0
      },
      "text/plain": [
       "Evaluating:   0%|          | 0/938 [00:00<?, ?it/s]"
      ]
     },
     "metadata": {},
     "output_type": "display_data"
    },
    {
     "data": {
      "application/vnd.jupyter.widget-view+json": {
       "model_id": "119d7a054a424b46b0d5fc37f4eb8a9e",
       "version_major": 2,
       "version_minor": 0
      },
      "text/plain": [
       "Evaluating:   0%|          | 0/157 [00:00<?, ?it/s]"
      ]
     },
     "metadata": {},
     "output_type": "display_data"
    },
    {
     "name": "stdout",
     "output_type": "stream",
     "text": [
      "Epoch: 19 | Epoch Time: 0m 14s\n",
      "\tTrain Loss: 43.4666 \n",
      "\t Val. Loss: 262.5000 \n",
      "19\n"
     ]
    },
    {
     "data": {
      "application/vnd.jupyter.widget-view+json": {
       "model_id": "04fe37e9a75f447cb944453a3f8eb46e",
       "version_major": 2,
       "version_minor": 0
      },
      "text/plain": [
       "Evaluating:   0%|          | 0/938 [00:00<?, ?it/s]"
      ]
     },
     "metadata": {},
     "output_type": "display_data"
    },
    {
     "data": {
      "application/vnd.jupyter.widget-view+json": {
       "model_id": "555321b91d674e6bb7fac87df26c1305",
       "version_major": 2,
       "version_minor": 0
      },
      "text/plain": [
       "Evaluating:   0%|          | 0/157 [00:00<?, ?it/s]"
      ]
     },
     "metadata": {},
     "output_type": "display_data"
    },
    {
     "name": "stdout",
     "output_type": "stream",
     "text": [
      "Epoch: 20 | Epoch Time: 0m 14s\n",
      "\tTrain Loss: 43.4619 \n",
      "\t Val. Loss: 262.4301 \n",
      "20\n"
     ]
    },
    {
     "data": {
      "application/vnd.jupyter.widget-view+json": {
       "model_id": "03a7f89d97404196b17efeeccd034c3e",
       "version_major": 2,
       "version_minor": 0
      },
      "text/plain": [
       "Evaluating:   0%|          | 0/938 [00:00<?, ?it/s]"
      ]
     },
     "metadata": {},
     "output_type": "display_data"
    },
    {
     "data": {
      "application/vnd.jupyter.widget-view+json": {
       "model_id": "e6c793a2bb82443e88a5212b61ddd259",
       "version_major": 2,
       "version_minor": 0
      },
      "text/plain": [
       "Evaluating:   0%|          | 0/157 [00:00<?, ?it/s]"
      ]
     },
     "metadata": {},
     "output_type": "display_data"
    },
    {
     "name": "stdout",
     "output_type": "stream",
     "text": [
      "Epoch: 21 | Epoch Time: 0m 14s\n",
      "\tTrain Loss: 43.4588 \n",
      "\t Val. Loss: 262.4159 \n",
      "21\n"
     ]
    },
    {
     "data": {
      "application/vnd.jupyter.widget-view+json": {
       "model_id": "3572d048979643a793e50050373ca34c",
       "version_major": 2,
       "version_minor": 0
      },
      "text/plain": [
       "Evaluating:   0%|          | 0/938 [00:00<?, ?it/s]"
      ]
     },
     "metadata": {},
     "output_type": "display_data"
    },
    {
     "data": {
      "application/vnd.jupyter.widget-view+json": {
       "model_id": "90169eb5c7bc46dca718bba13facd78b",
       "version_major": 2,
       "version_minor": 0
      },
      "text/plain": [
       "Evaluating:   0%|          | 0/157 [00:00<?, ?it/s]"
      ]
     },
     "metadata": {},
     "output_type": "display_data"
    },
    {
     "name": "stdout",
     "output_type": "stream",
     "text": [
      "Epoch: 22 | Epoch Time: 0m 14s\n",
      "\tTrain Loss: 43.4539 \n",
      "\t Val. Loss: 262.3327 \n",
      "22\n"
     ]
    },
    {
     "data": {
      "application/vnd.jupyter.widget-view+json": {
       "model_id": "2ce0c93d24ca4559b93d7046f0093220",
       "version_major": 2,
       "version_minor": 0
      },
      "text/plain": [
       "Evaluating:   0%|          | 0/938 [00:00<?, ?it/s]"
      ]
     },
     "metadata": {},
     "output_type": "display_data"
    },
    {
     "data": {
      "application/vnd.jupyter.widget-view+json": {
       "model_id": "4288306300ed42aea4eccf06b1f67744",
       "version_major": 2,
       "version_minor": 0
      },
      "text/plain": [
       "Evaluating:   0%|          | 0/157 [00:00<?, ?it/s]"
      ]
     },
     "metadata": {},
     "output_type": "display_data"
    },
    {
     "name": "stdout",
     "output_type": "stream",
     "text": [
      "Epoch: 23 | Epoch Time: 0m 14s\n",
      "\tTrain Loss: 43.4512 \n",
      "\t Val. Loss: 262.3163 \n",
      "23\n"
     ]
    },
    {
     "data": {
      "application/vnd.jupyter.widget-view+json": {
       "model_id": "c8af28e4fbd049ccbda6e5aef6d843ed",
       "version_major": 2,
       "version_minor": 0
      },
      "text/plain": [
       "Evaluating:   0%|          | 0/938 [00:00<?, ?it/s]"
      ]
     },
     "metadata": {},
     "output_type": "display_data"
    },
    {
     "data": {
      "application/vnd.jupyter.widget-view+json": {
       "model_id": "94ac075133d74b4787efe21695d0b4e1",
       "version_major": 2,
       "version_minor": 0
      },
      "text/plain": [
       "Evaluating:   0%|          | 0/157 [00:00<?, ?it/s]"
      ]
     },
     "metadata": {},
     "output_type": "display_data"
    },
    {
     "name": "stdout",
     "output_type": "stream",
     "text": [
      "Epoch: 24 | Epoch Time: 0m 14s\n",
      "\tTrain Loss: 43.4480 \n",
      "\t Val. Loss: 262.2773 \n",
      "24\n"
     ]
    },
    {
     "data": {
      "application/vnd.jupyter.widget-view+json": {
       "model_id": "6ce71d2b1527417ba856ce47ddf3c709",
       "version_major": 2,
       "version_minor": 0
      },
      "text/plain": [
       "Evaluating:   0%|          | 0/938 [00:00<?, ?it/s]"
      ]
     },
     "metadata": {},
     "output_type": "display_data"
    },
    {
     "data": {
      "application/vnd.jupyter.widget-view+json": {
       "model_id": "bc8a3cadf5204249b14f8086d6e5295d",
       "version_major": 2,
       "version_minor": 0
      },
      "text/plain": [
       "Evaluating:   0%|          | 0/157 [00:00<?, ?it/s]"
      ]
     },
     "metadata": {},
     "output_type": "display_data"
    },
    {
     "name": "stdout",
     "output_type": "stream",
     "text": [
      "Epoch: 25 | Epoch Time: 0m 14s\n",
      "\tTrain Loss: 43.4444 \n",
      "\t Val. Loss: 262.3327 \n",
      "25\n"
     ]
    },
    {
     "data": {
      "application/vnd.jupyter.widget-view+json": {
       "model_id": "17cf487eafdc4cb98607cee173e15bd8",
       "version_major": 2,
       "version_minor": 0
      },
      "text/plain": [
       "Evaluating:   0%|          | 0/938 [00:00<?, ?it/s]"
      ]
     },
     "metadata": {},
     "output_type": "display_data"
    },
    {
     "data": {
      "application/vnd.jupyter.widget-view+json": {
       "model_id": "36f463b9157b480aab9d62e0810a885b",
       "version_major": 2,
       "version_minor": 0
      },
      "text/plain": [
       "Evaluating:   0%|          | 0/157 [00:00<?, ?it/s]"
      ]
     },
     "metadata": {},
     "output_type": "display_data"
    },
    {
     "name": "stdout",
     "output_type": "stream",
     "text": [
      "Epoch: 26 | Epoch Time: 0m 14s\n",
      "\tTrain Loss: 43.4425 \n",
      "\t Val. Loss: 262.2762 \n",
      "26\n"
     ]
    },
    {
     "data": {
      "application/vnd.jupyter.widget-view+json": {
       "model_id": "f6553e02fa2f4b00b1a676dab378e4bf",
       "version_major": 2,
       "version_minor": 0
      },
      "text/plain": [
       "Evaluating:   0%|          | 0/938 [00:00<?, ?it/s]"
      ]
     },
     "metadata": {},
     "output_type": "display_data"
    },
    {
     "data": {
      "application/vnd.jupyter.widget-view+json": {
       "model_id": "c6d05ed5a63e4adfb03c7ebc449da4b0",
       "version_major": 2,
       "version_minor": 0
      },
      "text/plain": [
       "Evaluating:   0%|          | 0/157 [00:00<?, ?it/s]"
      ]
     },
     "metadata": {},
     "output_type": "display_data"
    },
    {
     "name": "stdout",
     "output_type": "stream",
     "text": [
      "Epoch: 27 | Epoch Time: 0m 13s\n",
      "\tTrain Loss: 43.4411 \n",
      "\t Val. Loss: 262.2666 \n",
      "27\n"
     ]
    },
    {
     "data": {
      "application/vnd.jupyter.widget-view+json": {
       "model_id": "ed79ae3c0f9a45c5aacd02c837544837",
       "version_major": 2,
       "version_minor": 0
      },
      "text/plain": [
       "Evaluating:   0%|          | 0/938 [00:00<?, ?it/s]"
      ]
     },
     "metadata": {},
     "output_type": "display_data"
    },
    {
     "data": {
      "application/vnd.jupyter.widget-view+json": {
       "model_id": "2d10366a35454cc6bb37b2de6e7db766",
       "version_major": 2,
       "version_minor": 0
      },
      "text/plain": [
       "Evaluating:   0%|          | 0/157 [00:00<?, ?it/s]"
      ]
     },
     "metadata": {},
     "output_type": "display_data"
    },
    {
     "name": "stdout",
     "output_type": "stream",
     "text": [
      "Epoch: 28 | Epoch Time: 0m 14s\n",
      "\tTrain Loss: 43.4389 \n",
      "\t Val. Loss: 262.2483 \n",
      "28\n"
     ]
    },
    {
     "data": {
      "application/vnd.jupyter.widget-view+json": {
       "model_id": "18fc8fc790a743b2a61f8ac2af026cf9",
       "version_major": 2,
       "version_minor": 0
      },
      "text/plain": [
       "Evaluating:   0%|          | 0/938 [00:00<?, ?it/s]"
      ]
     },
     "metadata": {},
     "output_type": "display_data"
    },
    {
     "data": {
      "application/vnd.jupyter.widget-view+json": {
       "model_id": "61b3db965df44a44b30be5c5c82d1260",
       "version_major": 2,
       "version_minor": 0
      },
      "text/plain": [
       "Evaluating:   0%|          | 0/157 [00:00<?, ?it/s]"
      ]
     },
     "metadata": {},
     "output_type": "display_data"
    },
    {
     "name": "stdout",
     "output_type": "stream",
     "text": [
      "Epoch: 29 | Epoch Time: 0m 13s\n",
      "\tTrain Loss: 43.4370 \n",
      "\t Val. Loss: 262.2694 \n",
      "29\n"
     ]
    },
    {
     "data": {
      "application/vnd.jupyter.widget-view+json": {
       "model_id": "3b6b13a0281d4255a3539d3e09f499ba",
       "version_major": 2,
       "version_minor": 0
      },
      "text/plain": [
       "Evaluating:   0%|          | 0/938 [00:00<?, ?it/s]"
      ]
     },
     "metadata": {},
     "output_type": "display_data"
    },
    {
     "data": {
      "application/vnd.jupyter.widget-view+json": {
       "model_id": "25bf1902ab7f4c06bd8d9bd30ebc9ae9",
       "version_major": 2,
       "version_minor": 0
      },
      "text/plain": [
       "Evaluating:   0%|          | 0/157 [00:00<?, ?it/s]"
      ]
     },
     "metadata": {},
     "output_type": "display_data"
    },
    {
     "name": "stdout",
     "output_type": "stream",
     "text": [
      "Epoch: 30 | Epoch Time: 0m 14s\n",
      "\tTrain Loss: 43.4365 \n",
      "\t Val. Loss: 262.3051 \n",
      "30\n"
     ]
    },
    {
     "data": {
      "application/vnd.jupyter.widget-view+json": {
       "model_id": "4847b62818f8439bba7485f4ed8ed632",
       "version_major": 2,
       "version_minor": 0
      },
      "text/plain": [
       "Evaluating:   0%|          | 0/938 [00:00<?, ?it/s]"
      ]
     },
     "metadata": {},
     "output_type": "display_data"
    },
    {
     "data": {
      "application/vnd.jupyter.widget-view+json": {
       "model_id": "f3aa49cbf0854248816636ac22075972",
       "version_major": 2,
       "version_minor": 0
      },
      "text/plain": [
       "Evaluating:   0%|          | 0/157 [00:00<?, ?it/s]"
      ]
     },
     "metadata": {},
     "output_type": "display_data"
    },
    {
     "name": "stdout",
     "output_type": "stream",
     "text": [
      "Epoch: 31 | Epoch Time: 0m 14s\n",
      "\tTrain Loss: 43.4354 \n",
      "\t Val. Loss: 262.3067 \n",
      "31\n"
     ]
    },
    {
     "data": {
      "application/vnd.jupyter.widget-view+json": {
       "model_id": "5cf05fff4e7b48f4944dc5ca4fed02c3",
       "version_major": 2,
       "version_minor": 0
      },
      "text/plain": [
       "Evaluating:   0%|          | 0/938 [00:00<?, ?it/s]"
      ]
     },
     "metadata": {},
     "output_type": "display_data"
    },
    {
     "data": {
      "application/vnd.jupyter.widget-view+json": {
       "model_id": "9ec221a23d724d8a985a68189b55aae8",
       "version_major": 2,
       "version_minor": 0
      },
      "text/plain": [
       "Evaluating:   0%|          | 0/157 [00:00<?, ?it/s]"
      ]
     },
     "metadata": {},
     "output_type": "display_data"
    },
    {
     "name": "stdout",
     "output_type": "stream",
     "text": [
      "Epoch: 32 | Epoch Time: 0m 14s\n",
      "\tTrain Loss: 43.4314 \n",
      "\t Val. Loss: 262.2400 \n",
      "32\n"
     ]
    },
    {
     "data": {
      "application/vnd.jupyter.widget-view+json": {
       "model_id": "ac3b10e9fba64b5f9e343ee7140fda1a",
       "version_major": 2,
       "version_minor": 0
      },
      "text/plain": [
       "Evaluating:   0%|          | 0/938 [00:00<?, ?it/s]"
      ]
     },
     "metadata": {},
     "output_type": "display_data"
    },
    {
     "data": {
      "application/vnd.jupyter.widget-view+json": {
       "model_id": "907ba967c912420b8b3a5717869cf84a",
       "version_major": 2,
       "version_minor": 0
      },
      "text/plain": [
       "Evaluating:   0%|          | 0/157 [00:00<?, ?it/s]"
      ]
     },
     "metadata": {},
     "output_type": "display_data"
    },
    {
     "name": "stdout",
     "output_type": "stream",
     "text": [
      "Epoch: 33 | Epoch Time: 0m 14s\n",
      "\tTrain Loss: 43.4250 \n",
      "\t Val. Loss: 262.1869 \n",
      "33\n"
     ]
    },
    {
     "data": {
      "application/vnd.jupyter.widget-view+json": {
       "model_id": "e7552c4c034a4ac38408d65f933dd47a",
       "version_major": 2,
       "version_minor": 0
      },
      "text/plain": [
       "Evaluating:   0%|          | 0/938 [00:00<?, ?it/s]"
      ]
     },
     "metadata": {},
     "output_type": "display_data"
    },
    {
     "data": {
      "application/vnd.jupyter.widget-view+json": {
       "model_id": "2631894597e840e39b0cbd1358eff549",
       "version_major": 2,
       "version_minor": 0
      },
      "text/plain": [
       "Evaluating:   0%|          | 0/157 [00:00<?, ?it/s]"
      ]
     },
     "metadata": {},
     "output_type": "display_data"
    },
    {
     "name": "stdout",
     "output_type": "stream",
     "text": [
      "Epoch: 34 | Epoch Time: 0m 13s\n",
      "\tTrain Loss: 43.4258 \n",
      "\t Val. Loss: 262.1604 \n",
      "34\n"
     ]
    },
    {
     "data": {
      "application/vnd.jupyter.widget-view+json": {
       "model_id": "756720bfe9c6411f8bfe32d83ae2b12c",
       "version_major": 2,
       "version_minor": 0
      },
      "text/plain": [
       "Evaluating:   0%|          | 0/938 [00:00<?, ?it/s]"
      ]
     },
     "metadata": {},
     "output_type": "display_data"
    },
    {
     "data": {
      "application/vnd.jupyter.widget-view+json": {
       "model_id": "262992d182f04ce2aa48e07ea7f13fc9",
       "version_major": 2,
       "version_minor": 0
      },
      "text/plain": [
       "Evaluating:   0%|          | 0/157 [00:00<?, ?it/s]"
      ]
     },
     "metadata": {},
     "output_type": "display_data"
    },
    {
     "name": "stdout",
     "output_type": "stream",
     "text": [
      "Epoch: 35 | Epoch Time: 0m 14s\n",
      "\tTrain Loss: 43.4177 \n",
      "\t Val. Loss: 262.1735 \n",
      "35\n"
     ]
    },
    {
     "data": {
      "application/vnd.jupyter.widget-view+json": {
       "model_id": "0d35814869764f0892a44add5d1c90d2",
       "version_major": 2,
       "version_minor": 0
      },
      "text/plain": [
       "Evaluating:   0%|          | 0/938 [00:00<?, ?it/s]"
      ]
     },
     "metadata": {},
     "output_type": "display_data"
    },
    {
     "data": {
      "application/vnd.jupyter.widget-view+json": {
       "model_id": "e8d7e054304a4988b1d6a3f37b8626b2",
       "version_major": 2,
       "version_minor": 0
      },
      "text/plain": [
       "Evaluating:   0%|          | 0/157 [00:00<?, ?it/s]"
      ]
     },
     "metadata": {},
     "output_type": "display_data"
    },
    {
     "name": "stdout",
     "output_type": "stream",
     "text": [
      "Epoch: 36 | Epoch Time: 0m 13s\n",
      "\tTrain Loss: 43.4151 \n",
      "\t Val. Loss: 262.1537 \n",
      "36\n"
     ]
    },
    {
     "data": {
      "application/vnd.jupyter.widget-view+json": {
       "model_id": "eee267ad52e14a8dbc11eb4d6d0d12b7",
       "version_major": 2,
       "version_minor": 0
      },
      "text/plain": [
       "Evaluating:   0%|          | 0/938 [00:00<?, ?it/s]"
      ]
     },
     "metadata": {},
     "output_type": "display_data"
    },
    {
     "data": {
      "application/vnd.jupyter.widget-view+json": {
       "model_id": "37c2e39870b5488ba48c6cb2151106f7",
       "version_major": 2,
       "version_minor": 0
      },
      "text/plain": [
       "Evaluating:   0%|          | 0/157 [00:00<?, ?it/s]"
      ]
     },
     "metadata": {},
     "output_type": "display_data"
    },
    {
     "name": "stdout",
     "output_type": "stream",
     "text": [
      "Epoch: 37 | Epoch Time: 0m 14s\n",
      "\tTrain Loss: 43.4142 \n",
      "\t Val. Loss: 262.1782 \n",
      "37\n"
     ]
    },
    {
     "data": {
      "application/vnd.jupyter.widget-view+json": {
       "model_id": "1c91716c636d425f96819dac26e7ab40",
       "version_major": 2,
       "version_minor": 0
      },
      "text/plain": [
       "Evaluating:   0%|          | 0/938 [00:00<?, ?it/s]"
      ]
     },
     "metadata": {},
     "output_type": "display_data"
    },
    {
     "data": {
      "application/vnd.jupyter.widget-view+json": {
       "model_id": "06fdedb935d64b33ab525690cbc2fe82",
       "version_major": 2,
       "version_minor": 0
      },
      "text/plain": [
       "Evaluating:   0%|          | 0/157 [00:00<?, ?it/s]"
      ]
     },
     "metadata": {},
     "output_type": "display_data"
    },
    {
     "name": "stdout",
     "output_type": "stream",
     "text": [
      "Epoch: 38 | Epoch Time: 0m 15s\n",
      "\tTrain Loss: 43.4127 \n",
      "\t Val. Loss: 262.0825 \n",
      "38\n"
     ]
    },
    {
     "data": {
      "application/vnd.jupyter.widget-view+json": {
       "model_id": "9d5e461705274630af7bf60f7a0d6d19",
       "version_major": 2,
       "version_minor": 0
      },
      "text/plain": [
       "Evaluating:   0%|          | 0/938 [00:00<?, ?it/s]"
      ]
     },
     "metadata": {},
     "output_type": "display_data"
    },
    {
     "data": {
      "application/vnd.jupyter.widget-view+json": {
       "model_id": "894d19b43eb047a2a58dcd68a78932be",
       "version_major": 2,
       "version_minor": 0
      },
      "text/plain": [
       "Evaluating:   0%|          | 0/157 [00:00<?, ?it/s]"
      ]
     },
     "metadata": {},
     "output_type": "display_data"
    },
    {
     "name": "stdout",
     "output_type": "stream",
     "text": [
      "Epoch: 39 | Epoch Time: 0m 16s\n",
      "\tTrain Loss: 43.4122 \n",
      "\t Val. Loss: 262.1624 \n",
      "39\n"
     ]
    },
    {
     "data": {
      "application/vnd.jupyter.widget-view+json": {
       "model_id": "a827c3334032412a8894e17a392d3aa3",
       "version_major": 2,
       "version_minor": 0
      },
      "text/plain": [
       "Evaluating:   0%|          | 0/938 [00:00<?, ?it/s]"
      ]
     },
     "metadata": {},
     "output_type": "display_data"
    },
    {
     "data": {
      "application/vnd.jupyter.widget-view+json": {
       "model_id": "64bac9b6b17c4f599a7e77fab7402836",
       "version_major": 2,
       "version_minor": 0
      },
      "text/plain": [
       "Evaluating:   0%|          | 0/157 [00:00<?, ?it/s]"
      ]
     },
     "metadata": {},
     "output_type": "display_data"
    },
    {
     "name": "stdout",
     "output_type": "stream",
     "text": [
      "Epoch: 40 | Epoch Time: 0m 13s\n",
      "\tTrain Loss: 43.4099 \n",
      "\t Val. Loss: 262.1282 \n",
      "40\n"
     ]
    },
    {
     "data": {
      "application/vnd.jupyter.widget-view+json": {
       "model_id": "4478988433d44ef6b6df4b2fe56ced7f",
       "version_major": 2,
       "version_minor": 0
      },
      "text/plain": [
       "Evaluating:   0%|          | 0/938 [00:00<?, ?it/s]"
      ]
     },
     "metadata": {},
     "output_type": "display_data"
    },
    {
     "data": {
      "application/vnd.jupyter.widget-view+json": {
       "model_id": "c8dad1e307444a3bad35d1253404eba4",
       "version_major": 2,
       "version_minor": 0
      },
      "text/plain": [
       "Evaluating:   0%|          | 0/157 [00:00<?, ?it/s]"
      ]
     },
     "metadata": {},
     "output_type": "display_data"
    },
    {
     "name": "stdout",
     "output_type": "stream",
     "text": [
      "Epoch: 41 | Epoch Time: 0m 14s\n",
      "\tTrain Loss: 43.4007 \n",
      "\t Val. Loss: 262.0461 \n",
      "41\n"
     ]
    },
    {
     "data": {
      "application/vnd.jupyter.widget-view+json": {
       "model_id": "883ba8debf744c5a9832079d3553425a",
       "version_major": 2,
       "version_minor": 0
      },
      "text/plain": [
       "Evaluating:   0%|          | 0/938 [00:00<?, ?it/s]"
      ]
     },
     "metadata": {},
     "output_type": "display_data"
    },
    {
     "data": {
      "application/vnd.jupyter.widget-view+json": {
       "model_id": "ac6df84d7b474ba196c9244817d8b2e3",
       "version_major": 2,
       "version_minor": 0
      },
      "text/plain": [
       "Evaluating:   0%|          | 0/157 [00:00<?, ?it/s]"
      ]
     },
     "metadata": {},
     "output_type": "display_data"
    },
    {
     "name": "stdout",
     "output_type": "stream",
     "text": [
      "Epoch: 42 | Epoch Time: 0m 13s\n",
      "\tTrain Loss: 43.3950 \n",
      "\t Val. Loss: 262.0410 \n",
      "42\n"
     ]
    },
    {
     "data": {
      "application/vnd.jupyter.widget-view+json": {
       "model_id": "9fcec9b2186d447981cab9ccf1a5e713",
       "version_major": 2,
       "version_minor": 0
      },
      "text/plain": [
       "Evaluating:   0%|          | 0/938 [00:00<?, ?it/s]"
      ]
     },
     "metadata": {},
     "output_type": "display_data"
    },
    {
     "data": {
      "application/vnd.jupyter.widget-view+json": {
       "model_id": "1070198bba5f4504b8ebc9683536e813",
       "version_major": 2,
       "version_minor": 0
      },
      "text/plain": [
       "Evaluating:   0%|          | 0/157 [00:00<?, ?it/s]"
      ]
     },
     "metadata": {},
     "output_type": "display_data"
    },
    {
     "name": "stdout",
     "output_type": "stream",
     "text": [
      "Epoch: 43 | Epoch Time: 0m 13s\n",
      "\tTrain Loss: 43.3897 \n",
      "\t Val. Loss: 262.0232 \n",
      "43\n"
     ]
    },
    {
     "data": {
      "application/vnd.jupyter.widget-view+json": {
       "model_id": "a5fa395f3fab4ade8a3f11ce8c1ac227",
       "version_major": 2,
       "version_minor": 0
      },
      "text/plain": [
       "Evaluating:   0%|          | 0/938 [00:00<?, ?it/s]"
      ]
     },
     "metadata": {},
     "output_type": "display_data"
    },
    {
     "data": {
      "application/vnd.jupyter.widget-view+json": {
       "model_id": "48de6627b00e42b58d4e64a01f5c0849",
       "version_major": 2,
       "version_minor": 0
      },
      "text/plain": [
       "Evaluating:   0%|          | 0/157 [00:00<?, ?it/s]"
      ]
     },
     "metadata": {},
     "output_type": "display_data"
    },
    {
     "name": "stdout",
     "output_type": "stream",
     "text": [
      "Epoch: 44 | Epoch Time: 0m 13s\n",
      "\tTrain Loss: 43.3802 \n",
      "\t Val. Loss: 261.9367 \n",
      "44\n"
     ]
    },
    {
     "data": {
      "application/vnd.jupyter.widget-view+json": {
       "model_id": "6b069897a1ce4dffa53ed3fbec03f70e",
       "version_major": 2,
       "version_minor": 0
      },
      "text/plain": [
       "Evaluating:   0%|          | 0/938 [00:00<?, ?it/s]"
      ]
     },
     "metadata": {},
     "output_type": "display_data"
    },
    {
     "data": {
      "application/vnd.jupyter.widget-view+json": {
       "model_id": "a91e55438e7d4a4f85bc7c930d6bb79f",
       "version_major": 2,
       "version_minor": 0
      },
      "text/plain": [
       "Evaluating:   0%|          | 0/157 [00:00<?, ?it/s]"
      ]
     },
     "metadata": {},
     "output_type": "display_data"
    },
    {
     "name": "stdout",
     "output_type": "stream",
     "text": [
      "Epoch: 45 | Epoch Time: 0m 13s\n",
      "\tTrain Loss: 43.3718 \n",
      "\t Val. Loss: 261.8801 \n",
      "45\n"
     ]
    },
    {
     "data": {
      "application/vnd.jupyter.widget-view+json": {
       "model_id": "4f4eaac4f14e4a94b81a784bf633659a",
       "version_major": 2,
       "version_minor": 0
      },
      "text/plain": [
       "Evaluating:   0%|          | 0/938 [00:00<?, ?it/s]"
      ]
     },
     "metadata": {},
     "output_type": "display_data"
    },
    {
     "data": {
      "application/vnd.jupyter.widget-view+json": {
       "model_id": "08ea7a10d0154bdd926201ea656ebce1",
       "version_major": 2,
       "version_minor": 0
      },
      "text/plain": [
       "Evaluating:   0%|          | 0/157 [00:00<?, ?it/s]"
      ]
     },
     "metadata": {},
     "output_type": "display_data"
    },
    {
     "name": "stdout",
     "output_type": "stream",
     "text": [
      "Epoch: 46 | Epoch Time: 0m 13s\n",
      "\tTrain Loss: 43.3654 \n",
      "\t Val. Loss: 261.8622 \n",
      "46\n"
     ]
    },
    {
     "data": {
      "application/vnd.jupyter.widget-view+json": {
       "model_id": "9fdc56e24c8c40f4a4ac7462b6e49346",
       "version_major": 2,
       "version_minor": 0
      },
      "text/plain": [
       "Evaluating:   0%|          | 0/938 [00:00<?, ?it/s]"
      ]
     },
     "metadata": {},
     "output_type": "display_data"
    },
    {
     "data": {
      "application/vnd.jupyter.widget-view+json": {
       "model_id": "05af1e8d527b4f5fa6c7c1e728677637",
       "version_major": 2,
       "version_minor": 0
      },
      "text/plain": [
       "Evaluating:   0%|          | 0/157 [00:00<?, ?it/s]"
      ]
     },
     "metadata": {},
     "output_type": "display_data"
    },
    {
     "name": "stdout",
     "output_type": "stream",
     "text": [
      "Epoch: 47 | Epoch Time: 0m 13s\n",
      "\tTrain Loss: 43.3574 \n",
      "\t Val. Loss: 261.8124 \n",
      "47\n"
     ]
    },
    {
     "data": {
      "application/vnd.jupyter.widget-view+json": {
       "model_id": "db89d18707d34b88b472e8cc98ca2d10",
       "version_major": 2,
       "version_minor": 0
      },
      "text/plain": [
       "Evaluating:   0%|          | 0/938 [00:00<?, ?it/s]"
      ]
     },
     "metadata": {},
     "output_type": "display_data"
    },
    {
     "data": {
      "application/vnd.jupyter.widget-view+json": {
       "model_id": "cf9fe7a3834b49e49f499c5f0e0daaeb",
       "version_major": 2,
       "version_minor": 0
      },
      "text/plain": [
       "Evaluating:   0%|          | 0/157 [00:00<?, ?it/s]"
      ]
     },
     "metadata": {},
     "output_type": "display_data"
    },
    {
     "name": "stdout",
     "output_type": "stream",
     "text": [
      "Epoch: 48 | Epoch Time: 0m 13s\n",
      "\tTrain Loss: 43.3521 \n",
      "\t Val. Loss: 261.7691 \n",
      "48\n"
     ]
    },
    {
     "data": {
      "application/vnd.jupyter.widget-view+json": {
       "model_id": "224b2a51350d40619e64402654140f38",
       "version_major": 2,
       "version_minor": 0
      },
      "text/plain": [
       "Evaluating:   0%|          | 0/938 [00:00<?, ?it/s]"
      ]
     },
     "metadata": {},
     "output_type": "display_data"
    },
    {
     "data": {
      "application/vnd.jupyter.widget-view+json": {
       "model_id": "6c9a0af206d64836ba985914ff097b21",
       "version_major": 2,
       "version_minor": 0
      },
      "text/plain": [
       "Evaluating:   0%|          | 0/157 [00:00<?, ?it/s]"
      ]
     },
     "metadata": {},
     "output_type": "display_data"
    },
    {
     "name": "stdout",
     "output_type": "stream",
     "text": [
      "Epoch: 49 | Epoch Time: 0m 14s\n",
      "\tTrain Loss: 43.3467 \n",
      "\t Val. Loss: 261.7889 \n",
      "49\n"
     ]
    },
    {
     "data": {
      "application/vnd.jupyter.widget-view+json": {
       "model_id": "ea0ef26d5f2446c892fbd672da52ed9d",
       "version_major": 2,
       "version_minor": 0
      },
      "text/plain": [
       "Evaluating:   0%|          | 0/938 [00:00<?, ?it/s]"
      ]
     },
     "metadata": {},
     "output_type": "display_data"
    },
    {
     "data": {
      "application/vnd.jupyter.widget-view+json": {
       "model_id": "452b1b5d939740d8a90dc7e0342187d8",
       "version_major": 2,
       "version_minor": 0
      },
      "text/plain": [
       "Evaluating:   0%|          | 0/157 [00:00<?, ?it/s]"
      ]
     },
     "metadata": {},
     "output_type": "display_data"
    },
    {
     "name": "stdout",
     "output_type": "stream",
     "text": [
      "Epoch: 50 | Epoch Time: 0m 13s\n",
      "\tTrain Loss: 43.3451 \n",
      "\t Val. Loss: 261.7762 \n"
     ]
    }
   ],
   "source": [
    "#Optimisation Loop\n",
    "for epoch in trange(num_epochs):\n",
    "    start_time = time.monotonic()\n",
    "    print(epoch)\n",
    "    train_loss = VAEs.train(model, train_loader, optimizer, device)\n",
    "    valid_loss = VAEs.evaluate(model, test_loader, device)\n",
    "      \n",
    "    end_time = time.monotonic()\n",
    "\n",
    "    epoch_mins, epoch_secs = VAEs.epoch_time(start_time, end_time)\n",
    "\n",
    "    print(f'Epoch: {epoch+1:02} | Epoch Time: {epoch_mins}m {epoch_secs}s')\n",
    "    print(f'\\tTrain Loss: {train_loss/len(train_loader):.4f} ')\n",
    "    print(f'\\t Val. Loss: {valid_loss/len(test_loader):.4f} ')\n",
    "          "
   ]
  },
  {
   "cell_type": "code",
   "execution_count": 65,
   "id": "02ca3b90",
   "metadata": {},
   "outputs": [],
   "source": [
    "z = torch.randn([5,10])\n",
    "sample = model.decoder(z).detach().numpy()"
   ]
  },
  {
   "cell_type": "code",
   "execution_count": 49,
   "id": "0c0f4212",
   "metadata": {},
   "outputs": [],
   "source": [
    "height, width = 28, 28\n",
    "batch_size = 64"
   ]
  },
  {
   "attachments": {},
   "cell_type": "markdown",
   "id": "558c3bed",
   "metadata": {},
   "source": [
    "##### Generated images by RBM"
   ]
  },
  {
   "cell_type": "code",
   "execution_count": 53,
   "id": "66a48605",
   "metadata": {},
   "outputs": [
    {
     "name": "stdout",
     "output_type": "stream",
     "text": [
      "Epoch : 0/25, Error = 0.026\n",
      "Epoch : 1/25, Error = 0.022\n",
      "Epoch : 2/25, Error = 0.020\n",
      "Epoch : 3/25, Error = 0.018\n",
      "Epoch : 4/25, Error = 0.017\n",
      "Epoch : 5/25, Error = 0.016\n",
      "Epoch : 6/25, Error = 0.016\n",
      "Epoch : 7/25, Error = 0.015\n",
      "Epoch : 8/25, Error = 0.015\n",
      "Epoch : 9/25, Error = 0.015\n",
      "Epoch : 10/25, Error = 0.014\n",
      "Epoch : 11/25, Error = 0.014\n",
      "Epoch : 12/25, Error = 0.014\n",
      "Epoch : 13/25, Error = 0.014\n",
      "Epoch : 14/25, Error = 0.014\n",
      "Epoch : 15/25, Error = 0.013\n",
      "Epoch : 16/25, Error = 0.013\n",
      "Epoch : 17/25, Error = 0.013\n",
      "Epoch : 18/25, Error = 0.013\n",
      "Epoch : 19/25, Error = 0.013\n",
      "Epoch : 20/25, Error = 0.013\n",
      "Epoch : 21/25, Error = 0.013\n",
      "Epoch : 22/25, Error = 0.013\n",
      "Epoch : 23/25, Error = 0.012\n",
      "Epoch : 24/25, Error = 0.012\n"
     ]
    },
    {
     "data": {
      "image/png": "[encoded data removed]",
      "text/plain": [
       "<Figure size 640x480 with 1 Axes>"
      ]
     },
     "metadata": {},
     "output_type": "display_data"
    },
    {
     "data": {
      "image/png": "[encoded data removed]",
      "text/plain": [
       "<Figure size 2000x500 with 5 Axes>"
      ]
     },
     "metadata": {},
     "output_type": "display_data"
    }
   ],
   "source": [
    "principal_RBM_alpha(X_train, height, width, nh, num_gen=5, num_epoch=25, lr=lr,\n",
    "                    batch_size=batch_size, num_iter_gibs=10, verbose=True, plot=True)\n",
    "plt.savefig(\"Fig4.pdf\", format=\"pdf\", bbox_inches=\"tight\")"
   ]
  },
  {
   "attachments": {},
   "cell_type": "markdown",
   "id": "e32efe0c",
   "metadata": {},
   "source": [
    "##### Generated images by DBN"
   ]
  },
  {
   "cell_type": "code",
   "execution_count": 54,
   "id": "b75b2c93",
   "metadata": {},
   "outputs": [
    {
     "data": {
      "image/png": "[encoded data removed]",
      "text/plain": [
       "<Figure size 2000x500 with 5 Axes>"
      ]
     },
     "metadata": {},
     "output_type": "display_data"
    },
    {
     "data": {
      "text/plain": [
       "<Figure size 640x480 with 0 Axes>"
      ]
     },
     "metadata": {},
     "output_type": "display_data"
    }
   ],
   "source": [
    "principal_DBN_alpha(X_train, height, width, nh, num_layers, num_gen=5, num_epoch=25, lr=lr,\n",
    "                    batch_size=batch_size, num_iter_gibs=10, verbose=False, plot=False)\n",
    "plt.savefig(\"Fig5.pdf\", format=\"pdf\", bbox_inches=\"tight\")"
   ]
  },
  {
   "attachments": {},
   "cell_type": "markdown",
   "id": "dfaae59d",
   "metadata": {},
   "source": [
    "##### Generated images by VAE"
   ]
  },
  {
   "cell_type": "code",
   "execution_count": 69,
   "id": "8f2dfbe2",
   "metadata": {},
   "outputs": [
    {
     "data": {
      "image/png": "[encoded data removed]",
      "text/plain": [
       "<Figure size 2000x500 with 5 Axes>"
      ]
     },
     "metadata": {},
     "output_type": "display_data"
    }
   ],
   "source": [
    "fig = plt.figure(figsize=(20,5))\n",
    "\n",
    "for i in range(5):\n",
    "    ax = fig.add_subplot(1, 5, i+1)\n",
    "    plt.imshow(sample[i].reshape(28,28), cmap = 'gray')\n",
    "plt.savefig(\"Fig6.pdf\", format=\"pdf\", bbox_inches=\"tight\")"
   ]
  },
  {
   "cell_type": "code",
   "execution_count": null,
   "id": "f33b4a58",
   "metadata": {},
   "outputs": [],
   "source": []
  }
 ],
 "metadata": {
  "kernelspec": {
   "display_name": "base",
   "language": "python",
   "name": "python3"
  },
  "language_info": {
   "codemirror_mode": {
    "name": "ipython",
    "version": 3
   },
   "file_extension": ".py",
   "mimetype": "text/x-python",
   "name": "python",
   "nbconvert_exporter": "python",
   "pygments_lexer": "ipython3",
   "version": "3.9.13"
  },
  "vscode": {
   "interpreter": {
    "hash": "7eb2a2f64ac9daeae6d0befdf3278c4f1574e11b5ea2755dc9562f62b0470430"
   }
  }
 },
 "nbformat": 4,
 "nbformat_minor": 5
}
